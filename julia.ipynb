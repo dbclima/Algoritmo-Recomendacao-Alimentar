{
 "cells": [
  {
   "cell_type": "markdown",
   "metadata": {},
   "source": [
    "# Algebra Linear Algorítmica - Trabalho Final\n",
    "##  Alunos\n",
    "- Antonio Pedro\n",
    "- Diogo Lima\n",
    "\n",
    "## Descrição\n",
    "Neste projeto desenvolveremos um software que recebe alimentos e o objetivo  alimentar de um individuo e retorna a dieta ideal do mesmo.\n",
    "\n",
    "### Dados de entrada:\n",
    "- Peso [kg]\n",
    "- Idade [ano]\n",
    "- Gênero [M/F]\n",
    "- Lista de preferencia alimentar"
   ]
  },
  {
   "cell_type": "code",
   "execution_count": 55,
   "metadata": {},
   "outputs": [
    {
     "data": {
      "text/plain": [
       "5-element Vector{Int64}:\n",
       "   2\n",
       "   3\n",
       "  27\n",
       " 123\n",
       "   9"
      ]
     },
     "metadata": {},
     "output_type": "display_data"
    }
   ],
   "source": [
    "PESO = 70.0\n",
    "IDADE = 24\n",
    "GENERO = \"M\"\n",
    "\n",
    "LISTA_ALIMENTOS = [2, 3, 27, 123, 9]"
   ]
  },
  {
   "cell_type": "markdown",
   "metadata": {},
   "source": [
    "## Bibliotecas Utilizadas"
   ]
  },
  {
   "cell_type": "code",
   "execution_count": 56,
   "metadata": {},
   "outputs": [],
   "source": [
    "using LinearAlgebra\n",
    "using CSV\n",
    "using DataFrames"
   ]
  },
  {
   "cell_type": "markdown",
   "metadata": {},
   "source": [
    "### Objetivos alimentares\n",
    "A quantidade ideal de cada nutriente ingerido por dia:\n",
    "- **Calorias**:\n",
    "    - Homens: 2400 [kcal]/dia\n",
    "    - Mulheres: 2000 [kcal]/dia\n",
    "    - fonte: https://oglobo.globo.com/saude/noticia/2023/01/quantas-calorias-devo-consumir-por-dia.ghtml\n",
    "\n",
    "- **Proteína**: \n",
    "    - Sem exercício: 1.0 [g/kg]/dia\n",
    "    - Com exercício: 2.0 [g/kg]/dia\n",
    "    - Consideraremos 1.5 [g/kg]/dia\n",
    "    - fonte: https://www.metropoles.com/saude/como-calcular-quantidade-proteina-por-dia\n",
    "\n",
    "- **Lipídeos (Gordura)**\n",
    "    - 30% da Caloria diária (ou menos)\n",
    "    - 1g tem cerca de 9 kcal\n",
    "    - fonte caloria diária: https://www.who.int/news/item/17-07-2023-who-updates-guidelines-on-fats-and-carbohydrates\n",
    "    - fonte conversão g -> kcal: https://brasilescola.uol.com.br/curiosidades/contando-calorias.htm#:~:text=Um%20grama%20de%20carboidrato%20oferece,fornece%20cerca%20de%209%20kcal.\n",
    "\n",
    "- **Colesterol**\n",
    "    - 10% da caloria diária (ou menos)\n",
    "    - 22g tem cerca de 200 kcal (9 kcal/g)\n",
    "    - fonte: https://www.healthline.com/health/high-cholesterol/rda\n",
    "\n",
    "- **Carboidrato**\n",
    "    - 4 a 6 [g/kg]/dia\n",
    "    - Consideraremos 5 [g/kg]/dia\n",
    "    - fonte: https://www.terra.com.br/vida-e-estilo/quantas-gramas-diarias-de-carboidrato-sao-necessarias-para-hipertrofia-entenda,f5f7ce9ed991948b24cbd30bc1e8f9c6njbq608z.html#:~:text=%22Um%20consumo%20m%C3%A9dio%20de%20carboidratos,g%20de%20carboidratos%20por%20dia.\n",
    "\n",
    "- **Fibra Alimentar**\n",
    "    - 2-5 anos: 15 g/dia\n",
    "    - 6-9 anos: 21 g/dia\n",
    "    - 10+ anos: 25 g/dia\n",
    "    - fonte: https://www.who.int/news/item/17-07-2023-who-updates-guidelines-on-fats-and-carbohydrates\n",
    "\n",
    "- **Cálcio**\n",
    "    - < 1 ano: 260 mg/dia\n",
    "    - 1-3 anos: 700 mg/dia\n",
    "    - 4-8 anos: 1000 mg/dia\n",
    "    - 9-18 anos: 1300 mg/dia\n",
    "    - 18-70 anos: 1000 mg/dia\n",
    "    - 70+ anos: 1200 mg/dia\n",
    "    - fonte: https://www.unimed.coop.br/viver-bem/alimentacao/qual-a-quantidade-de-calcio-que-o-corpo-precisa-e-como-obte-la\n",
    "\n",
    "- **Magnésio**\n",
    "    - < 1 ano: 30 mg/dia\n",
    "    - 1-3 anos: 75 mg/dia\n",
    "    - 4-8 anos: 80 mg/dia\n",
    "    - 9-13 anos: 240 mg/dia\n",
    "    - 14-18 anos: \n",
    "        - homem: 410 mg/dia\n",
    "        - mulher: 360 mg/dia\n",
    "    - 19-30 anos: \n",
    "        - homem: 400 mg/dia\n",
    "        - mulher: 310 mg/dia\n",
    "    - 31+ anos: \n",
    "        - homem: 420 mg/dia\n",
    "        - mulher: 320 mg/dia\n",
    "    - fonte: https://www.healthline.com/nutrition/magnesium-dosage#supplements\n"
   ]
  },
  {
   "cell_type": "code",
   "execution_count": 57,
   "metadata": {},
   "outputs": [
    {
     "name": "stdout",
     "output_type": "stream",
     "text": [
      "[2400.0, 105.0, 80.0, 26.666666666666668, 350.0, 25.0, 1000.0, 400.0]"
     ]
    }
   ],
   "source": [
    "function get_dosagens_diarias(idade, peso, genero)\n",
    "    \"\"\"Consideraremos a idade em anos, peso em Kg e genero \"M\" ou \"F\" \"\"\"\n",
    "    vetor_ideal = zeros(8)\n",
    "    \n",
    "    # Defendendo Entradas\n",
    "    if (genero != \"M\" && genero != \"F\") || (idade < 0) || (peso < 0)\n",
    "        return false, vetor_ideal\n",
    "    end\n",
    "\n",
    "    # Calorias\n",
    "    if genero == \"M\"\n",
    "        vetor_ideal[1] = 2400\n",
    "    else\n",
    "        vetor_ideal[1] = 2000\n",
    "    end\n",
    "\n",
    "    # Proteinas\n",
    "    vetor_ideal[2] = peso * 1.5\n",
    "\n",
    "    # Lipídeos\n",
    "    vetor_ideal[3] = (vetor_ideal[1] * 0.3) / 9\n",
    "\n",
    "    # Colesterol\n",
    "    vetor_ideal[4] = (vetor_ideal[1] * 0.1) / 9\n",
    "\n",
    "    # Carboidratos\n",
    "    vetor_ideal[5] = peso * 5\n",
    "\n",
    "    # Fibra Alimentar\n",
    "    if (idade < 2)\n",
    "        vetor_ideal[6] = 0\n",
    "    \n",
    "    elseif (idade < 5)\n",
    "        vetor_ideal[6] = 15\n",
    "        \n",
    "    elseif (idade < 10)\n",
    "        vetor_ideal[6] = 21\n",
    "        \n",
    "    else\n",
    "        vetor_ideal[6] = 25\n",
    "    end\n",
    "\n",
    "    # Calcio\n",
    "    if (idade < 1)\n",
    "        vetor_ideal[7] = 260\n",
    "    \n",
    "    elseif (idade < 3)\n",
    "        vetor_ideal[7] = 300\n",
    "\n",
    "    elseif (idade < 8)\n",
    "        vetor_ideal[7] = 1000\n",
    "\n",
    "    elseif (idade < 18)\n",
    "        vetor_ideal[7] = 1300\n",
    "\n",
    "    elseif (idade < 70)\n",
    "        vetor_ideal[7] = 1000\n",
    "\n",
    "    else\n",
    "        vetor_ideal[7] = 1200\n",
    "    end\n",
    "    \n",
    "    # Magnésio\n",
    "    if (idade < 1)\n",
    "        vetor_ideal[8] = 30\n",
    "\n",
    "    elseif (idade < 3)\n",
    "        vetor_ideal[8] = 75\n",
    "\n",
    "    elseif (idade < 8)\n",
    "        vetor_ideal[8] = 80\n",
    "\n",
    "    elseif (idade < 13)\n",
    "        vetor_ideal[8] = 240\n",
    "\n",
    "    elseif (idade < 18)\n",
    "        if (genero == \"M\")\n",
    "            vetor_ideal[8] = 410\n",
    "        else\n",
    "            vetor_ideal[8] = 360\n",
    "        end\n",
    "        \n",
    "    elseif (idade < 30)\n",
    "        if (genero == \"M\")\n",
    "            vetor_ideal[8] = 400\n",
    "        else\n",
    "            vetor_ideal[8] = 310\n",
    "        end\n",
    "\n",
    "    else\n",
    "        if (genero == \"M\")\n",
    "            vetor_ideal[8] = 420\n",
    "        else\n",
    "            vetor_ideal[8] = 320\n",
    "        end\n",
    "    end\n",
    "\n",
    "    return true, vetor_ideal\n",
    "end\n",
    "\n",
    "validade, dosagem_diaria = get_dosagens_diarias(IDADE, PESO, GENERO)\n",
    "if !validade\n",
    "    print(\"Parametro invalido\")\n",
    "end\n",
    "\n",
    "print(dosagem_diaria)"
   ]
  },
  {
   "cell_type": "markdown",
   "metadata": {},
   "source": [
    "## Dados Utilizados\n",
    "\n",
    "### Base de alimentos\n",
    "Os dados refletem as quantidades de nutriente para mais de 300 alimentos.\n",
    "\n",
    "Fonte de dados: https://www.kaggle.com/datasets/ispangler/composio-nutricional-de-alimentos-taco?select=taco-db-nutrientes.csv"
   ]
  },
  {
   "cell_type": "code",
   "execution_count": 58,
   "metadata": {},
   "outputs": [
    {
     "data": {
      "text/html": [
       "<div><div style = \"float: left;\"><span>359×9 DataFrame</span></div><div style = \"float: right;\"><span style = \"font-style: italic;\">334 rows omitted</span></div><div style = \"clear: both;\"></div></div><div class = \"data-frame\" style = \"overflow-x: scroll;\"><table class = \"data-frame\" style = \"margin-bottom: 6px;\"><thead><tr class = \"header\"><th class = \"rowNumber\" style = \"font-weight: bold; text-align: right;\">Row</th><th style = \"text-align: left;\">Nome</th><th style = \"text-align: left;\">Energia (kcal)</th><th style = \"text-align: left;\">Proteína (g)</th><th style = \"text-align: left;\">Lipídeos (g)</th><th style = \"text-align: left;\">Colesterol (mg)</th><th style = \"text-align: left;\">Carboidrato (g)</th><th style = \"text-align: left;\">Fibra Alimentar (g)</th><th style = \"text-align: left;\">Cálcio (mg)</th><th style = \"text-align: left;\">Magnésio (mg)</th></tr><tr class = \"subheader headerLastRow\"><th class = \"rowNumber\" style = \"font-weight: bold; text-align: right;\"></th><th title = \"String\" style = \"text-align: left;\">String</th><th title = \"Float64\" style = \"text-align: left;\">Float64</th><th title = \"Float64\" style = \"text-align: left;\">Float64</th><th title = \"Float64\" style = \"text-align: left;\">Float64</th><th title = \"Int64\" style = \"text-align: left;\">Int64</th><th title = \"Float64\" style = \"text-align: left;\">Float64</th><th title = \"Float64\" style = \"text-align: left;\">Float64</th><th title = \"Float64\" style = \"text-align: left;\">Float64</th><th title = \"Int64\" style = \"text-align: left;\">Int64</th></tr></thead><tbody><tr><td class = \"rowNumber\" style = \"font-weight: bold; text-align: right;\">1</td><td style = \"text-align: left;\">Arroz integral cozido</td><td style = \"text-align: right;\">124.0</td><td style = \"text-align: right;\">2.6</td><td style = \"text-align: right;\">1.0</td><td style = \"text-align: right;\">0</td><td style = \"text-align: right;\">25.8</td><td style = \"text-align: right;\">2.7</td><td style = \"text-align: right;\">5.0</td><td style = \"text-align: right;\">59</td></tr><tr><td class = \"rowNumber\" style = \"font-weight: bold; text-align: right;\">2</td><td style = \"text-align: left;\">Arroz cozido</td><td style = \"text-align: right;\">128.0</td><td style = \"text-align: right;\">2.5</td><td style = \"text-align: right;\">0.2</td><td style = \"text-align: right;\">0</td><td style = \"text-align: right;\">28.1</td><td style = \"text-align: right;\">1.6</td><td style = \"text-align: right;\">4.0</td><td style = \"text-align: right;\">2</td></tr><tr><td class = \"rowNumber\" style = \"font-weight: bold; text-align: right;\">3</td><td style = \"text-align: left;\">Biscoito doce maisena</td><td style = \"text-align: right;\">443.0</td><td style = \"text-align: right;\">8.1</td><td style = \"text-align: right;\">12.0</td><td style = \"text-align: right;\">0</td><td style = \"text-align: right;\">75.2</td><td style = \"text-align: right;\">2.1</td><td style = \"text-align: right;\">54.0</td><td style = \"text-align: right;\">37</td></tr><tr><td class = \"rowNumber\" style = \"font-weight: bold; text-align: right;\">4</td><td style = \"text-align: left;\">Biscoito doce recheado com chocolate</td><td style = \"text-align: right;\">472.0</td><td style = \"text-align: right;\">6.4</td><td style = \"text-align: right;\">19.6</td><td style = \"text-align: right;\">0</td><td style = \"text-align: right;\">70.5</td><td style = \"text-align: right;\">3.0</td><td style = \"text-align: right;\">27.0</td><td style = \"text-align: right;\">48</td></tr><tr><td class = \"rowNumber\" style = \"font-weight: bold; text-align: right;\">5</td><td style = \"text-align: left;\">Biscoito doce recheado com morango</td><td style = \"text-align: right;\">471.0</td><td style = \"text-align: right;\">5.7</td><td style = \"text-align: right;\">19.6</td><td style = \"text-align: right;\">0</td><td style = \"text-align: right;\">71.0</td><td style = \"text-align: right;\">1.5</td><td style = \"text-align: right;\">36.0</td><td style = \"text-align: right;\">27</td></tr><tr><td class = \"rowNumber\" style = \"font-weight: bold; text-align: right;\">6</td><td style = \"text-align: left;\">Biscoito doce wafer recheado de chocolate</td><td style = \"text-align: right;\">502.0</td><td style = \"text-align: right;\">5.6</td><td style = \"text-align: right;\">24.7</td><td style = \"text-align: right;\">0</td><td style = \"text-align: right;\">67.5</td><td style = \"text-align: right;\">1.8</td><td style = \"text-align: right;\">23.0</td><td style = \"text-align: right;\">48</td></tr><tr><td class = \"rowNumber\" style = \"font-weight: bold; text-align: right;\">7</td><td style = \"text-align: left;\">Biscoito doce wafer recheado de morango</td><td style = \"text-align: right;\">513.0</td><td style = \"text-align: right;\">4.5</td><td style = \"text-align: right;\">26.4</td><td style = \"text-align: right;\">1</td><td style = \"text-align: right;\">67.4</td><td style = \"text-align: right;\">0.8</td><td style = \"text-align: right;\">14.0</td><td style = \"text-align: right;\">19</td></tr><tr><td class = \"rowNumber\" style = \"font-weight: bold; text-align: right;\">8</td><td style = \"text-align: left;\">Biscoito salgado cream cracker</td><td style = \"text-align: right;\">432.0</td><td style = \"text-align: right;\">10.1</td><td style = \"text-align: right;\">14.4</td><td style = \"text-align: right;\">0</td><td style = \"text-align: right;\">68.7</td><td style = \"text-align: right;\">2.5</td><td style = \"text-align: right;\">20.0</td><td style = \"text-align: right;\">40</td></tr><tr><td class = \"rowNumber\" style = \"font-weight: bold; text-align: right;\">9</td><td style = \"text-align: left;\">Bolo mistura para</td><td style = \"text-align: right;\">419.0</td><td style = \"text-align: right;\">6.2</td><td style = \"text-align: right;\">6.1</td><td style = \"text-align: right;\">0</td><td style = \"text-align: right;\">84.7</td><td style = \"text-align: right;\">1.7</td><td style = \"text-align: right;\">59.0</td><td style = \"text-align: right;\">28</td></tr><tr><td class = \"rowNumber\" style = \"font-weight: bold; text-align: right;\">10</td><td style = \"text-align: left;\">Bolo pronto aipim</td><td style = \"text-align: right;\">324.0</td><td style = \"text-align: right;\">4.4</td><td style = \"text-align: right;\">12.7</td><td style = \"text-align: right;\">73</td><td style = \"text-align: right;\">47.9</td><td style = \"text-align: right;\">0.7</td><td style = \"text-align: right;\">85.0</td><td style = \"text-align: right;\">10</td></tr><tr><td class = \"rowNumber\" style = \"font-weight: bold; text-align: right;\">11</td><td style = \"text-align: left;\">Bolo pronto chocolate</td><td style = \"text-align: right;\">410.0</td><td style = \"text-align: right;\">6.2</td><td style = \"text-align: right;\">18.5</td><td style = \"text-align: right;\">77</td><td style = \"text-align: right;\">54.7</td><td style = \"text-align: right;\">1.4</td><td style = \"text-align: right;\">75.0</td><td style = \"text-align: right;\">28</td></tr><tr><td class = \"rowNumber\" style = \"font-weight: bold; text-align: right;\">12</td><td style = \"text-align: left;\">Bolo pronto coco</td><td style = \"text-align: right;\">333.0</td><td style = \"text-align: right;\">5.7</td><td style = \"text-align: right;\">11.3</td><td style = \"text-align: right;\">63</td><td style = \"text-align: right;\">52.3</td><td style = \"text-align: right;\">1.1</td><td style = \"text-align: right;\">57.0</td><td style = \"text-align: right;\">16</td></tr><tr><td class = \"rowNumber\" style = \"font-weight: bold; text-align: right;\">13</td><td style = \"text-align: left;\">Bolo pronto milho</td><td style = \"text-align: right;\">311.0</td><td style = \"text-align: right;\">4.8</td><td style = \"text-align: right;\">12.4</td><td style = \"text-align: right;\">82</td><td style = \"text-align: right;\">45.1</td><td style = \"text-align: right;\">0.7</td><td style = \"text-align: right;\">83.0</td><td style = \"text-align: right;\">10</td></tr><tr><td style = \"text-align: right;\">&vellip;</td><td style = \"text-align: right;\">&vellip;</td><td style = \"text-align: right;\">&vellip;</td><td style = \"text-align: right;\">&vellip;</td><td style = \"text-align: right;\">&vellip;</td><td style = \"text-align: right;\">&vellip;</td><td style = \"text-align: right;\">&vellip;</td><td style = \"text-align: right;\">&vellip;</td><td style = \"text-align: right;\">&vellip;</td><td style = \"text-align: right;\">&vellip;</td></tr><tr><td class = \"rowNumber\" style = \"font-weight: bold; text-align: right;\">348</td><td style = \"text-align: left;\">Soja extrato solúvel pó</td><td style = \"text-align: right;\">459.0</td><td style = \"text-align: right;\">35.7</td><td style = \"text-align: right;\">26.2</td><td style = \"text-align: right;\">0</td><td style = \"text-align: right;\">28.5</td><td style = \"text-align: right;\">7.3</td><td style = \"text-align: right;\">359.0</td><td style = \"text-align: right;\">216</td></tr><tr><td class = \"rowNumber\" style = \"font-weight: bold; text-align: right;\">349</td><td style = \"text-align: left;\">Soja queijo (tofu)</td><td style = \"text-align: right;\">64.0</td><td style = \"text-align: right;\">6.6</td><td style = \"text-align: right;\">4.0</td><td style = \"text-align: right;\">0</td><td style = \"text-align: right;\">2.1</td><td style = \"text-align: right;\">0.8</td><td style = \"text-align: right;\">81.0</td><td style = \"text-align: right;\">38</td></tr><tr><td class = \"rowNumber\" style = \"font-weight: bold; text-align: right;\">350</td><td style = \"text-align: left;\">Tremoço em conserva</td><td style = \"text-align: right;\">121.0</td><td style = \"text-align: right;\">11.1</td><td style = \"text-align: right;\">3.8</td><td style = \"text-align: right;\">0</td><td style = \"text-align: right;\">12.4</td><td style = \"text-align: right;\">14.4</td><td style = \"text-align: right;\">16.0</td><td style = \"text-align: right;\">4</td></tr><tr><td class = \"rowNumber\" style = \"font-weight: bold; text-align: right;\">351</td><td style = \"text-align: left;\">Amêndoa torrada salgada</td><td style = \"text-align: right;\">581.0</td><td style = \"text-align: right;\">18.6</td><td style = \"text-align: right;\">47.3</td><td style = \"text-align: right;\">0</td><td style = \"text-align: right;\">29.5</td><td style = \"text-align: right;\">11.6</td><td style = \"text-align: right;\">237.0</td><td style = \"text-align: right;\">222</td></tr><tr><td class = \"rowNumber\" style = \"font-weight: bold; text-align: right;\">352</td><td style = \"text-align: left;\">Soja queijo (tofu)</td><td style = \"text-align: right;\">64.0</td><td style = \"text-align: right;\">6.6</td><td style = \"text-align: right;\">4.0</td><td style = \"text-align: right;\">0</td><td style = \"text-align: right;\">2.1</td><td style = \"text-align: right;\">0.8</td><td style = \"text-align: right;\">81.0</td><td style = \"text-align: right;\">38</td></tr><tr><td class = \"rowNumber\" style = \"font-weight: bold; text-align: right;\">353</td><td style = \"text-align: left;\">Tremoço em conserva</td><td style = \"text-align: right;\">121.0</td><td style = \"text-align: right;\">11.1</td><td style = \"text-align: right;\">3.8</td><td style = \"text-align: right;\">0</td><td style = \"text-align: right;\">12.4</td><td style = \"text-align: right;\">14.4</td><td style = \"text-align: right;\">16.0</td><td style = \"text-align: right;\">4</td></tr><tr><td class = \"rowNumber\" style = \"font-weight: bold; text-align: right;\">354</td><td style = \"text-align: left;\">Amêndoa torrada salgada</td><td style = \"text-align: right;\">581.0</td><td style = \"text-align: right;\">18.6</td><td style = \"text-align: right;\">47.3</td><td style = \"text-align: right;\">0</td><td style = \"text-align: right;\">29.5</td><td style = \"text-align: right;\">11.6</td><td style = \"text-align: right;\">237.0</td><td style = \"text-align: right;\">222</td></tr><tr><td class = \"rowNumber\" style = \"font-weight: bold; text-align: right;\">355</td><td style = \"text-align: left;\">Castanha-de-caju torrada salgada</td><td style = \"text-align: right;\">570.0</td><td style = \"text-align: right;\">18.5</td><td style = \"text-align: right;\">46.3</td><td style = \"text-align: right;\">0</td><td style = \"text-align: right;\">29.1</td><td style = \"text-align: right;\">3.7</td><td style = \"text-align: right;\">33.0</td><td style = \"text-align: right;\">237</td></tr><tr><td class = \"rowNumber\" style = \"font-weight: bold; text-align: right;\">356</td><td style = \"text-align: left;\">Gergelim semente</td><td style = \"text-align: right;\">584.0</td><td style = \"text-align: right;\">21.2</td><td style = \"text-align: right;\">50.4</td><td style = \"text-align: right;\">0</td><td style = \"text-align: right;\">21.6</td><td style = \"text-align: right;\">11.9</td><td style = \"text-align: right;\">825.0</td><td style = \"text-align: right;\">361</td></tr><tr><td class = \"rowNumber\" style = \"font-weight: bold; text-align: right;\">357</td><td style = \"text-align: left;\">Linhaça semente</td><td style = \"text-align: right;\">495.0</td><td style = \"text-align: right;\">14.1</td><td style = \"text-align: right;\">32.3</td><td style = \"text-align: right;\">0</td><td style = \"text-align: right;\">43.3</td><td style = \"text-align: right;\">33.5</td><td style = \"text-align: right;\">211.0</td><td style = \"text-align: right;\">347</td></tr><tr><td class = \"rowNumber\" style = \"font-weight: bold; text-align: right;\">358</td><td style = \"text-align: left;\">Pinhão cozido</td><td style = \"text-align: right;\">174.0</td><td style = \"text-align: right;\">3.0</td><td style = \"text-align: right;\">0.7</td><td style = \"text-align: right;\">0</td><td style = \"text-align: right;\">43.9</td><td style = \"text-align: right;\">15.6</td><td style = \"text-align: right;\">16.0</td><td style = \"text-align: right;\">53</td></tr><tr><td class = \"rowNumber\" style = \"font-weight: bold; text-align: right;\">359</td><td style = \"text-align: left;\">Pupunha cozida</td><td style = \"text-align: right;\">219.0</td><td style = \"text-align: right;\">2.5</td><td style = \"text-align: right;\">12.8</td><td style = \"text-align: right;\">0</td><td style = \"text-align: right;\">29.6</td><td style = \"text-align: right;\">4.3</td><td style = \"text-align: right;\">28.0</td><td style = \"text-align: right;\">25</td></tr></tbody></table></div>"
      ],
      "text/latex": [
       "\\begin{tabular}{r|cccc}\n",
       "\t& Nome & Energia (kcal) & Proteína (g) & \\\\\n",
       "\t\\hline\n",
       "\t& String & Float64 & Float64 & \\\\\n",
       "\t\\hline\n",
       "\t1 & Arroz integral cozido & 124.0 & 2.6 & $\\dots$ \\\\\n",
       "\t2 & Arroz cozido & 128.0 & 2.5 & $\\dots$ \\\\\n",
       "\t3 & Biscoito doce maisena & 443.0 & 8.1 & $\\dots$ \\\\\n",
       "\t4 & Biscoito doce recheado com chocolate & 472.0 & 6.4 & $\\dots$ \\\\\n",
       "\t5 & Biscoito doce recheado com morango & 471.0 & 5.7 & $\\dots$ \\\\\n",
       "\t6 & Biscoito doce wafer recheado de chocolate & 502.0 & 5.6 & $\\dots$ \\\\\n",
       "\t7 & Biscoito doce wafer recheado de morango & 513.0 & 4.5 & $\\dots$ \\\\\n",
       "\t8 & Biscoito salgado cream cracker & 432.0 & 10.1 & $\\dots$ \\\\\n",
       "\t9 & Bolo mistura para & 419.0 & 6.2 & $\\dots$ \\\\\n",
       "\t10 & Bolo pronto aipim & 324.0 & 4.4 & $\\dots$ \\\\\n",
       "\t11 & Bolo pronto chocolate & 410.0 & 6.2 & $\\dots$ \\\\\n",
       "\t12 & Bolo pronto coco & 333.0 & 5.7 & $\\dots$ \\\\\n",
       "\t13 & Bolo pronto milho & 311.0 & 4.8 & $\\dots$ \\\\\n",
       "\t14 & Canjica com leite integral & 112.0 & 2.4 & $\\dots$ \\\\\n",
       "\t15 & Cereais milho flocos com sal & 370.0 & 7.3 & $\\dots$ \\\\\n",
       "\t16 & Cereais milho flocos sem sal & 363.0 & 6.9 & $\\dots$ \\\\\n",
       "\t17 & Cereais mingau milho infantil & 394.0 & 6.4 & $\\dots$ \\\\\n",
       "\t18 & Cereais mistura para vitamina trigo cevada e aveia & 381.0 & 8.9 & $\\dots$ \\\\\n",
       "\t19 & Cereal matinal milho & 365.0 & 7.2 & $\\dots$ \\\\\n",
       "\t20 & Cereal matinal milho açúcar & 377.0 & 4.7 & $\\dots$ \\\\\n",
       "\t21 & Creme de arroz pó & 386.0 & 7.0 & $\\dots$ \\\\\n",
       "\t22 & Creme de milho pó & 333.0 & 4.8 & $\\dots$ \\\\\n",
       "\t23 & Curau milho verde & 78.0 & 2.4 & $\\dots$ \\\\\n",
       "\t24 & Curau milho verde mistura para & 402.0 & 2.2 & $\\dots$ \\\\\n",
       "\t$\\dots$ & $\\dots$ & $\\dots$ & $\\dots$ &  \\\\\n",
       "\\end{tabular}\n"
      ],
      "text/plain": [
       "\u001b[1m359×9 DataFrame\u001b[0m\n",
       "\u001b[1m Row \u001b[0m│\u001b[1m Nome                              \u001b[0m\u001b[1m Energia (kcal) \u001b[0m\u001b[1m Proteína (g) \u001b[0m\u001b[1m Lipíde\u001b[0m ⋯\n",
       "     │\u001b[90m String                            \u001b[0m\u001b[90m Float64        \u001b[0m\u001b[90m Float64      \u001b[0m\u001b[90m Float6\u001b[0m ⋯\n",
       "─────┼──────────────────────────────────────────────────────────────────────────\n",
       "   1 │ Arroz integral cozido                       124.0           2.6         ⋯\n",
       "   2 │ Arroz cozido                                128.0           2.5\n",
       "   3 │ Biscoito doce maisena                       443.0           8.1\n",
       "   4 │ Biscoito doce recheado com choco…           472.0           6.4\n",
       "   5 │ Biscoito doce recheado com moran…           471.0           5.7         ⋯\n",
       "   6 │ Biscoito doce wafer recheado de …           502.0           5.6\n",
       "   7 │ Biscoito doce wafer recheado de …           513.0           4.5\n",
       "   8 │ Biscoito salgado cream cracker              432.0          10.1\n",
       "  ⋮  │                 ⋮                        ⋮              ⋮             ⋮ ⋱\n",
       " 353 │ Tremoço em conserva                         121.0          11.1         ⋯\n",
       " 354 │ Amêndoa torrada salgada                     581.0          18.6\n",
       " 355 │ Castanha-de-caju torrada salgada            570.0          18.5\n",
       " 356 │ Gergelim semente                            584.0          21.2\n",
       " 357 │ Linhaça semente                             495.0          14.1         ⋯\n",
       " 358 │ Pinhão cozido                               174.0           3.0\n",
       " 359 │ Pupunha cozida                              219.0           2.5\n",
       "\u001b[36m                                                  6 columns and 344 rows omitted\u001b[0m"
      ]
     },
     "metadata": {},
     "output_type": "display_data"
    }
   ],
   "source": [
    "df = CSV.read(\"arquivo_sem_cru.csv\", DataFrame)\n",
    "display(df)"
   ]
  },
  {
   "cell_type": "markdown",
   "metadata": {},
   "source": [
    "### Tratando dados\n",
    "Convertemos as colunas para o tipo correto de dados"
   ]
  },
  {
   "cell_type": "code",
   "execution_count": 59,
   "metadata": {},
   "outputs": [
    {
     "data": {
      "text/html": [
       "<div><div style = \"float: left;\"><span>5×9 DataFrame</span></div><div style = \"clear: both;\"></div></div><div class = \"data-frame\" style = \"overflow-x: scroll;\"><table class = \"data-frame\" style = \"margin-bottom: 6px;\"><thead><tr class = \"header\"><th class = \"rowNumber\" style = \"font-weight: bold; text-align: right;\">Row</th><th style = \"text-align: left;\">Nome</th><th style = \"text-align: left;\">Energia (kcal)</th><th style = \"text-align: left;\">Proteína (g)</th><th style = \"text-align: left;\">Lipídeos (g)</th><th style = \"text-align: left;\">Colesterol (mg)</th><th style = \"text-align: left;\">Carboidrato (g)</th><th style = \"text-align: left;\">Fibra Alimentar (g)</th><th style = \"text-align: left;\">Cálcio (mg)</th><th style = \"text-align: left;\">Magnésio (mg)</th></tr><tr class = \"subheader headerLastRow\"><th class = \"rowNumber\" style = \"font-weight: bold; text-align: right;\"></th><th title = \"String\" style = \"text-align: left;\">String</th><th title = \"Float64\" style = \"text-align: left;\">Float64</th><th title = \"Float64\" style = \"text-align: left;\">Float64</th><th title = \"Float64\" style = \"text-align: left;\">Float64</th><th title = \"Int64\" style = \"text-align: left;\">Int64</th><th title = \"Float64\" style = \"text-align: left;\">Float64</th><th title = \"Float64\" style = \"text-align: left;\">Float64</th><th title = \"Float64\" style = \"text-align: left;\">Float64</th><th title = \"Int64\" style = \"text-align: left;\">Int64</th></tr></thead><tbody><tr><td class = \"rowNumber\" style = \"font-weight: bold; text-align: right;\">1</td><td style = \"text-align: left;\">Arroz integral cozido</td><td style = \"text-align: right;\">124.0</td><td style = \"text-align: right;\">2.6</td><td style = \"text-align: right;\">1.0</td><td style = \"text-align: right;\">0</td><td style = \"text-align: right;\">25.8</td><td style = \"text-align: right;\">2.7</td><td style = \"text-align: right;\">5.0</td><td style = \"text-align: right;\">59</td></tr><tr><td class = \"rowNumber\" style = \"font-weight: bold; text-align: right;\">2</td><td style = \"text-align: left;\">Arroz cozido</td><td style = \"text-align: right;\">128.0</td><td style = \"text-align: right;\">2.5</td><td style = \"text-align: right;\">0.2</td><td style = \"text-align: right;\">0</td><td style = \"text-align: right;\">28.1</td><td style = \"text-align: right;\">1.6</td><td style = \"text-align: right;\">4.0</td><td style = \"text-align: right;\">2</td></tr><tr><td class = \"rowNumber\" style = \"font-weight: bold; text-align: right;\">3</td><td style = \"text-align: left;\">Biscoito doce maisena</td><td style = \"text-align: right;\">443.0</td><td style = \"text-align: right;\">8.1</td><td style = \"text-align: right;\">12.0</td><td style = \"text-align: right;\">0</td><td style = \"text-align: right;\">75.2</td><td style = \"text-align: right;\">2.1</td><td style = \"text-align: right;\">54.0</td><td style = \"text-align: right;\">37</td></tr><tr><td class = \"rowNumber\" style = \"font-weight: bold; text-align: right;\">4</td><td style = \"text-align: left;\">Biscoito doce recheado com chocolate</td><td style = \"text-align: right;\">472.0</td><td style = \"text-align: right;\">6.4</td><td style = \"text-align: right;\">19.6</td><td style = \"text-align: right;\">0</td><td style = \"text-align: right;\">70.5</td><td style = \"text-align: right;\">3.0</td><td style = \"text-align: right;\">27.0</td><td style = \"text-align: right;\">48</td></tr><tr><td class = \"rowNumber\" style = \"font-weight: bold; text-align: right;\">5</td><td style = \"text-align: left;\">Biscoito doce recheado com morango</td><td style = \"text-align: right;\">471.0</td><td style = \"text-align: right;\">5.7</td><td style = \"text-align: right;\">19.6</td><td style = \"text-align: right;\">0</td><td style = \"text-align: right;\">71.0</td><td style = \"text-align: right;\">1.5</td><td style = \"text-align: right;\">36.0</td><td style = \"text-align: right;\">27</td></tr></tbody></table></div>"
      ],
      "text/latex": [
       "\\begin{tabular}{r|ccccc}\n",
       "\t& Nome & Energia (kcal) & Proteína (g) & Lipídeos (g) & \\\\\n",
       "\t\\hline\n",
       "\t& String & Float64 & Float64 & Float64 & \\\\\n",
       "\t\\hline\n",
       "\t1 & Arroz integral cozido & 124.0 & 2.6 & 1.0 & $\\dots$ \\\\\n",
       "\t2 & Arroz cozido & 128.0 & 2.5 & 0.2 & $\\dots$ \\\\\n",
       "\t3 & Biscoito doce maisena & 443.0 & 8.1 & 12.0 & $\\dots$ \\\\\n",
       "\t4 & Biscoito doce recheado com chocolate & 472.0 & 6.4 & 19.6 & $\\dots$ \\\\\n",
       "\t5 & Biscoito doce recheado com morango & 471.0 & 5.7 & 19.6 & $\\dots$ \\\\\n",
       "\\end{tabular}\n"
      ],
      "text/plain": [
       "\u001b[1m5×9 DataFrame\u001b[0m\n",
       "\u001b[1m Row \u001b[0m│\u001b[1m Nome                              \u001b[0m\u001b[1m Energia (kcal) \u001b[0m\u001b[1m Proteína (g) \u001b[0m\u001b[1m Lipíde\u001b[0m ⋯\n",
       "     │\u001b[90m String                            \u001b[0m\u001b[90m Float64        \u001b[0m\u001b[90m Float64      \u001b[0m\u001b[90m Float6\u001b[0m ⋯\n",
       "─────┼──────────────────────────────────────────────────────────────────────────\n",
       "   1 │ Arroz integral cozido                       124.0           2.6         ⋯\n",
       "   2 │ Arroz cozido                                128.0           2.5\n",
       "   3 │ Biscoito doce maisena                       443.0           8.1\n",
       "   4 │ Biscoito doce recheado com choco…           472.0           6.4\n",
       "   5 │ Biscoito doce recheado com moran…           471.0           5.7         ⋯\n",
       "\u001b[36m                                                               6 columns omitted\u001b[0m"
      ]
     },
     "metadata": {},
     "output_type": "display_data"
    },
    {
     "name": "stdout",
     "output_type": "stream",
     "text": [
      "Proteína (g), Lipídeos (g), Colesterol (mg), Carboidrato (g), Fibra Alimentar (g), Cálcio (mg), Magnésio (mg), "
     ]
    }
   ],
   "source": [
    "for nome in names(df)[3:ncol(df)]\n",
    "    print(nome, \", \")\n",
    "    convert(Vector{Float64}, df[!, nome])\n",
    "end\n",
    "\n",
    "display(DataFrames.first(df, 5))"
   ]
  },
  {
   "cell_type": "markdown",
   "metadata": {},
   "source": [
    "### Escalonando Dados\n",
    "Escalonaremos os dados em função da quantidade de nutrientes demandados por cada indivíduo, dividindo a quantidade presente na tabela pelo valor alvo para atingirmos um percentual do nutriente alvo e não mais um valor absoluto"
   ]
  },
  {
   "cell_type": "code",
   "execution_count": 93,
   "metadata": {},
   "outputs": [
    {
     "data": {
      "text/html": [
       "<div><div style = \"float: left;\"><span>5×9 DataFrame</span></div><div style = \"clear: both;\"></div></div><div class = \"data-frame\" style = \"overflow-x: scroll;\"><table class = \"data-frame\" style = \"margin-bottom: 6px;\"><thead><tr class = \"header\"><th class = \"rowNumber\" style = \"font-weight: bold; text-align: right;\">Row</th><th style = \"text-align: left;\">Nome</th><th style = \"text-align: left;\">Energia (kcal)</th><th style = \"text-align: left;\">Proteína (g)</th><th style = \"text-align: left;\">Lipídeos (g)</th><th style = \"text-align: left;\">Colesterol (mg)</th><th style = \"text-align: left;\">Carboidrato (g)</th><th style = \"text-align: left;\">Fibra Alimentar (g)</th><th style = \"text-align: left;\">Cálcio (mg)</th><th style = \"text-align: left;\">Magnésio (mg)</th></tr><tr class = \"subheader headerLastRow\"><th class = \"rowNumber\" style = \"font-weight: bold; text-align: right;\"></th><th title = \"String\" style = \"text-align: left;\">String</th><th title = \"Float64\" style = \"text-align: left;\">Float64</th><th title = \"Float64\" style = \"text-align: left;\">Float64</th><th title = \"Float64\" style = \"text-align: left;\">Float64</th><th title = \"Float64\" style = \"text-align: left;\">Float64</th><th title = \"Float64\" style = \"text-align: left;\">Float64</th><th title = \"Float64\" style = \"text-align: left;\">Float64</th><th title = \"Float64\" style = \"text-align: left;\">Float64</th><th title = \"Float64\" style = \"text-align: left;\">Float64</th></tr></thead><tbody><tr><td class = \"rowNumber\" style = \"font-weight: bold; text-align: right;\">1</td><td style = \"text-align: left;\">Arroz integral cozido</td><td style = \"text-align: right;\">0.22</td><td style = \"text-align: right;\">2.36</td><td style = \"text-align: right;\">1.56</td><td style = \"text-align: right;\">0.0</td><td style = \"text-align: right;\">2.11</td><td style = \"text-align: right;\">43.2</td><td style = \"text-align: right;\">0.05</td><td style = \"text-align: right;\">3.69</td></tr><tr><td class = \"rowNumber\" style = \"font-weight: bold; text-align: right;\">2</td><td style = \"text-align: left;\">Arroz cozido</td><td style = \"text-align: right;\">0.22</td><td style = \"text-align: right;\">2.27</td><td style = \"text-align: right;\">0.31</td><td style = \"text-align: right;\">0.0</td><td style = \"text-align: right;\">2.29</td><td style = \"text-align: right;\">25.6</td><td style = \"text-align: right;\">0.04</td><td style = \"text-align: right;\">0.12</td></tr><tr><td class = \"rowNumber\" style = \"font-weight: bold; text-align: right;\">3</td><td style = \"text-align: left;\">Biscoito doce maisena</td><td style = \"text-align: right;\">0.77</td><td style = \"text-align: right;\">7.34</td><td style = \"text-align: right;\">18.75</td><td style = \"text-align: right;\">0.0</td><td style = \"text-align: right;\">6.14</td><td style = \"text-align: right;\">33.6</td><td style = \"text-align: right;\">0.54</td><td style = \"text-align: right;\">2.31</td></tr><tr><td class = \"rowNumber\" style = \"font-weight: bold; text-align: right;\">4</td><td style = \"text-align: left;\">Biscoito doce recheado com chocolate</td><td style = \"text-align: right;\">0.82</td><td style = \"text-align: right;\">5.81</td><td style = \"text-align: right;\">30.63</td><td style = \"text-align: right;\">0.0</td><td style = \"text-align: right;\">5.75</td><td style = \"text-align: right;\">48.0</td><td style = \"text-align: right;\">0.27</td><td style = \"text-align: right;\">3.0</td></tr><tr><td class = \"rowNumber\" style = \"font-weight: bold; text-align: right;\">5</td><td style = \"text-align: left;\">Biscoito doce recheado com morango</td><td style = \"text-align: right;\">0.82</td><td style = \"text-align: right;\">5.17</td><td style = \"text-align: right;\">30.63</td><td style = \"text-align: right;\">0.0</td><td style = \"text-align: right;\">5.8</td><td style = \"text-align: right;\">24.0</td><td style = \"text-align: right;\">0.36</td><td style = \"text-align: right;\">1.69</td></tr></tbody></table></div>"
      ],
      "text/latex": [
       "\\begin{tabular}{r|ccccc}\n",
       "\t& Nome & Energia (kcal) & Proteína (g) & Lipídeos (g) & \\\\\n",
       "\t\\hline\n",
       "\t& String & Float64 & Float64 & Float64 & \\\\\n",
       "\t\\hline\n",
       "\t1 & Arroz integral cozido & 0.22 & 2.36 & 1.56 & $\\dots$ \\\\\n",
       "\t2 & Arroz cozido & 0.22 & 2.27 & 0.31 & $\\dots$ \\\\\n",
       "\t3 & Biscoito doce maisena & 0.77 & 7.34 & 18.75 & $\\dots$ \\\\\n",
       "\t4 & Biscoito doce recheado com chocolate & 0.82 & 5.81 & 30.63 & $\\dots$ \\\\\n",
       "\t5 & Biscoito doce recheado com morango & 0.82 & 5.17 & 30.63 & $\\dots$ \\\\\n",
       "\\end{tabular}\n"
      ],
      "text/plain": [
       "\u001b[1m5×9 DataFrame\u001b[0m\n",
       "\u001b[1m Row \u001b[0m│\u001b[1m Nome                              \u001b[0m\u001b[1m Energia (kcal) \u001b[0m\u001b[1m Proteína (g) \u001b[0m\u001b[1m Lipíde\u001b[0m ⋯\n",
       "     │\u001b[90m String                            \u001b[0m\u001b[90m Float64        \u001b[0m\u001b[90m Float64      \u001b[0m\u001b[90m Float6\u001b[0m ⋯\n",
       "─────┼──────────────────────────────────────────────────────────────────────────\n",
       "   1 │ Arroz integral cozido                        0.22          2.36         ⋯\n",
       "   2 │ Arroz cozido                                 0.22          2.27\n",
       "   3 │ Biscoito doce maisena                        0.77          7.34\n",
       "   4 │ Biscoito doce recheado com choco…            0.82          5.81\n",
       "   5 │ Biscoito doce recheado com moran…            0.82          5.17         ⋯\n",
       "\u001b[36m                                                               6 columns omitted\u001b[0m"
      ]
     },
     "metadata": {},
     "output_type": "display_data"
    },
    {
     "data": {
      "text/plain": [
       "8-element Vector{Float64}:\n",
       " 100.0\n",
       " 100.0\n",
       " 100.0\n",
       " 100.0\n",
       " 100.0\n",
       " 100.0\n",
       " 100.0\n",
       " 100.0"
      ]
     },
     "metadata": {},
     "output_type": "display_data"
    }
   ],
   "source": [
    "for i in 2: (ncol(df))\n",
    "    df[!, i] .= (df[!, i] / dosagem_diaria[i - 1]) * 100\n",
    "end\n",
    "\n",
    "vetor_alvo = ones(length(dosagem_diaria)) * 100\n",
    "\n",
    "for i in 2: ncol(df)\n",
    "    df[!, i] .= round.(df[!, i], digits=2)\n",
    "end\n",
    "\n",
    "display(first(df, 5))\n",
    "display(vetor_alvo)"
   ]
  },
  {
   "cell_type": "markdown",
   "metadata": {},
   "source": [
    "## Criando Matriz Base\n",
    "Com base nos alimentos selecionados, temos a seguinte matriz $A$"
   ]
  },
  {
   "cell_type": "code",
   "execution_count": 61,
   "metadata": {},
   "outputs": [
    {
     "data": {
      "text/plain": [
       "8×5 Matrix{Float64}:\n",
       "  5.17  5.33  18.17  24.71  18.0\n",
       "  2.48  2.38   8.38   0.0    9.62\n",
       "  1.25  0.25  21.5   83.87  18.0\n",
       "  0.0   0.0    0.0    0.0    0.0\n",
       "  7.37  8.03  17.83   0.0   19.63\n",
       " 10.8   6.4   22.4    0.0   10.0\n",
       "  0.5   0.4    1.8    0.5    2.0\n",
       " 14.75  0.5    4.75   0.25  10.0"
      ]
     },
     "metadata": {},
     "output_type": "display_data"
    },
    {
     "data": {
      "text/plain": [
       "8×5 Matrix{Float64}:\n",
       "  5.17  5.33  18.17  24.71  18.0\n",
       "  2.48  2.38   8.38   0.0    9.62\n",
       "  1.25  0.25  21.5   83.87  18.0\n",
       "  0.0   0.0    0.0    0.0    0.0\n",
       "  7.37  8.03  17.83   0.0   19.63\n",
       " 10.8   6.4   22.4    0.0   10.0\n",
       "  0.5   0.4    1.8    0.5    2.0\n",
       " 14.75  0.5    4.75   0.25  10.0"
      ]
     },
     "metadata": {},
     "output_type": "display_data"
    }
   ],
   "source": [
    "if (length(LISTA_ALIMENTOS) == 0)\n",
    "    print(\"Nenhum alimento selecionado! Por favor adicione indices de alimentos na variavel LISTA_ALIMENTOS\")\n",
    "\n",
    "else\n",
    "    A = Vector(df[LISTA_ALIMENTOS[1]-1, 2:ncol(df)])\n",
    "\n",
    "    for idx in LISTA_ALIMENTOS[2: length(LISTA_ALIMENTOS)]\n",
    "        A = hcat(A, Vector(df[idx - 1, 2:ncol(df)]))\n",
    "    end\n",
    "\n",
    "    display(A)\n",
    "end\n",
    "\n",
    "vetorAlimentos = A"
   ]
  },
  {
   "cell_type": "markdown",
   "metadata": {},
   "source": [
    "## Calcula Projeção\n",
    "Recebe o vetor Alvo (que contém os dados  referentes à alimentação balanceada) e o vetor que contém os dados dos alimentos escolhidos pelo usuário. Dessa forma, iremos encontrar a projeção do vetor ideal de consumo no subespaço gerado pelos vetores dos alimentos. Essa projeção é a combinação linear do subespaço desses vetores mais próxima possível do vetor ideal de consumo."
   ]
  },
  {
   "cell_type": "code",
   "execution_count": 62,
   "metadata": {},
   "outputs": [
    {
     "data": {
      "text/plain": [
       "8×8 Matrix{Float64}:\n",
       "  0.329736     0.00837712    0.197537    0.0  …  -0.00744319  -0.00583758\n",
       "  0.00837712   0.944922     -0.00382547  0.0      0.227944    -0.000515145\n",
       "  0.197537    -0.00382547    0.94175     0.0      0.00781638   0.00170591\n",
       "  0.0          0.0           0.0         0.0      0.0          0.0\n",
       "  0.4262       0.000381032  -0.125467    0.0     -0.0189243    0.00377299\n",
       "  0.0135466   -0.0010292    -0.0040136   0.0  …   0.00371443   0.000108783\n",
       " -0.00744319   0.227944      0.00781638  0.0      0.0555369    0.00237271\n",
       " -0.00583758  -0.000515145   0.00170591  0.0      0.00237271   0.999943"
      ]
     },
     "metadata": {},
     "output_type": "display_data"
    },
    {
     "data": {
      "text/plain": [
       "8-element Vector{Float64}:\n",
       "  96.21\n",
       " 117.63\n",
       " 101.55\n",
       "   0.0\n",
       " 100.58\n",
       " 100.35\n",
       "  27.1\n",
       " 100.16"
      ]
     },
     "metadata": {},
     "output_type": "display_data"
    }
   ],
   "source": [
    "function projecao(vetorAlvo, vetorGeral)\n",
    "\n",
    "  A = vetorGeral\n",
    "\n",
    "  matrizProjecao = A * inv((A' * A)) * A' \n",
    "\n",
    "  display(matrizProjecao)\n",
    "\n",
    "  projecao = matrizProjecao*vetorAlvo\n",
    "\n",
    "  projecao = round.(projecao, digits = 2)\n",
    "\n",
    "  display(projecao)\n",
    "  return projecao\n",
    "end\n",
    "\n",
    "vetorProjecao = projecao(vetor_alvo,vetorAlimentos);\n",
    "\n"
   ]
  },
  {
   "cell_type": "markdown",
   "metadata": {},
   "source": [
    "## Calcula Quantidade de cada Alimento\n",
    "\n",
    "Após encontrarmos a projeção, realizamos a resolução do sistema linear Ax = b, em que A é  vetor com as dados dos alimentos, e b é a projeção. Já que a projeção está no subespaço gerado pelos vetores dos alimentos, é garantido que haverá uma solução para o sistema."
   ]
  },
  {
   "cell_type": "code",
   "execution_count": 98,
   "metadata": {},
   "outputs": [
    {
     "name": "stdout",
     "output_type": "stream",
     "text": [
      "[-440.00000000000006, -4387.0, 1362.0, -474.0, 1235.0]"
     ]
    }
   ],
   "source": [
    "function calculaAlimentoIndices(vetorGeral, vetorProjecao)     \n",
    "    x = vetorGeral \\ vetorProjecao\n",
    "    x = round.(x, digits= 2)\n",
    "    return x\n",
    "end \n",
    "\n",
    "indicesAlimentos = calculaAlimentoIndices(vetorAlimentos, vetorProjecao)\n",
    "\n",
    "\n",
    "## Transformamos as quantidades encontradas para gramas\n",
    "\n",
    "function calculaAlimentosGramas(indicesAlimentos)\n",
    "    for i in eachindex(indicesAlimentos)\n",
    "        indicesAlimentos[i] *= 100\n",
    "    end\n",
    "end\n",
    "\n",
    "calculaAlimentosGramas(indicesAlimentos)\n",
    "\n",
    "print(indicesAlimentos)\n",
    "\n"
   ]
  },
  {
   "cell_type": "code",
   "execution_count": null,
   "metadata": {},
   "outputs": [],
   "source": [
    "function printaAlimentos(indicesAlimentos)\n",
    "    \n",
    "\n",
    "end \n",
    "  "
   ]
  }
 ],
 "metadata": {
  "kernelspec": {
   "display_name": "Julia 1.10.4",
   "language": "julia",
   "name": "julia-1.10"
  },
  "language_info": {
   "file_extension": ".jl",
   "mimetype": "application/julia",
   "name": "julia",
   "version": "1.10.4"
  }
 },
 "nbformat": 4,
 "nbformat_minor": 2
}
