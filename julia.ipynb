{
 "cells": [
  {
   "cell_type": "markdown",
   "metadata": {},
   "source": [
    "# Algebra Linear Algorítmica - Trabalho Final\n",
    "##  Alunos\n",
    "- Antonio Pedro\n",
    "- Diogo Lima\n",
    "\n",
    "## Descrição\n",
    "Neste projeto desenvolveremos um software que recebe alimentos e o objetivo  alimentar de um individuo e retorna a dieta ideal do mesmo.\n",
    "\n",
    "### Dados de entrada:\n",
    "- Peso [kg]\n",
    "- Idade [ano]\n",
    "- Gênero [M/F]\n",
    "- Lista de preferencia alimentar"
   ]
  },
  {
   "cell_type": "code",
   "execution_count": 152,
   "metadata": {},
   "outputs": [
    {
     "data": {
      "text/plain": [
       "5-element Vector{Int64}:\n",
       "   2\n",
       "   3\n",
       "  27\n",
       " 123\n",
       "   9"
      ]
     },
     "execution_count": 152,
     "metadata": {},
     "output_type": "execute_result"
    }
   ],
   "source": [
    "PESO = 70.0\n",
    "IDADE = 24\n",
    "GENERO = \"M\"\n",
    "\n",
    "LISTA_ALIMENTOS = [2, 3, 27, 123, 9]"
   ]
  },
  {
   "cell_type": "markdown",
   "metadata": {},
   "source": [
    "## Bibliotecas Utilizadas"
   ]
  },
  {
   "cell_type": "code",
   "execution_count": 153,
   "metadata": {},
   "outputs": [],
   "source": [
    "using LinearAlgebra\n",
    "using CSV\n",
    "using DataFrames"
   ]
  },
  {
   "cell_type": "markdown",
   "metadata": {},
   "source": [
    "### Objetivos alimentares\n",
    "A quantidade ideal de cada nutriente ingerido por dia:\n",
    "- **Calorias**:\n",
    "    - Homens: 2400 [kcal]/dia\n",
    "    - Mulheres: 2000 [kcal]/dia\n",
    "    - fonte: https://oglobo.globo.com/saude/noticia/2023/01/quantas-calorias-devo-consumir-por-dia.ghtml\n",
    "\n",
    "- **Proteína**: \n",
    "    - Sem exercício: 1.0 [g/kg]/dia\n",
    "    - Com exercício: 2.0 [g/kg]/dia\n",
    "    - Consideraremos 1.5 [g/kg]/dia\n",
    "    - fonte: https://www.metropoles.com/saude/como-calcular-quantidade-proteina-por-dia\n",
    "\n",
    "- **Lipídeos (Gordura)**\n",
    "    - 30% da Caloria diária (ou menos)\n",
    "    - 1g tem cerca de 9 kcal\n",
    "    - fonte caloria diária: https://www.who.int/news/item/17-07-2023-who-updates-guidelines-on-fats-and-carbohydrates\n",
    "    - fonte conversão g -> kcal: https://brasilescola.uol.com.br/curiosidades/contando-calorias.htm#:~:text=Um%20grama%20de%20carboidrato%20oferece,fornece%20cerca%20de%209%20kcal.\n",
    "\n",
    "- **Colesterol**\n",
    "    - 10% da caloria diária (ou menos)\n",
    "    - 22g tem cerca de 200 kcal (9 kcal/g)\n",
    "    - fonte: https://www.healthline.com/health/high-cholesterol/rda\n",
    "\n",
    "- **Carboidrato**\n",
    "    - 4 a 6 [g/kg]/dia\n",
    "    - Consideraremos 5 [g/kg]/dia\n",
    "    - fonte: https://www.terra.com.br/vida-e-estilo/quantas-gramas-diarias-de-carboidrato-sao-necessarias-para-hipertrofia-entenda,f5f7ce9ed991948b24cbd30bc1e8f9c6njbq608z.html#:~:text=%22Um%20consumo%20m%C3%A9dio%20de%20carboidratos,g%20de%20carboidratos%20por%20dia.\n",
    "\n",
    "- **Fibra Alimentar**\n",
    "    - 2-5 anos: 15 g/dia\n",
    "    - 6-9 anos: 21 g/dia\n",
    "    - 10+ anos: 25 g/dia\n",
    "    - fonte: https://www.who.int/news/item/17-07-2023-who-updates-guidelines-on-fats-and-carbohydrates\n",
    "\n",
    "- **Cálcio**\n",
    "    - < 1 ano: 260 mg/dia\n",
    "    - 1-3 anos: 700 mg/dia\n",
    "    - 4-8 anos: 1000 mg/dia\n",
    "    - 9-18 anos: 1300 mg/dia\n",
    "    - 18-70 anos: 1000 mg/dia\n",
    "    - 70+ anos: 1200 mg/dia\n",
    "    - fonte: https://www.unimed.coop.br/viver-bem/alimentacao/qual-a-quantidade-de-calcio-que-o-corpo-precisa-e-como-obte-la\n",
    "\n",
    "- **Magnésio**\n",
    "    - < 1 ano: 30 mg/dia\n",
    "    - 1-3 anos: 75 mg/dia\n",
    "    - 4-8 anos: 80 mg/dia\n",
    "    - 9-13 anos: 240 mg/dia\n",
    "    - 14-18 anos: \n",
    "        - homem: 410 mg/dia\n",
    "        - mulher: 360 mg/dia\n",
    "    - 19-30 anos: \n",
    "        - homem: 400 mg/dia\n",
    "        - mulher: 310 mg/dia\n",
    "    - 31+ anos: \n",
    "        - homem: 420 mg/dia\n",
    "        - mulher: 320 mg/dia\n",
    "    - fonte: https://www.healthline.com/nutrition/magnesium-dosage#supplements\n"
   ]
  },
  {
   "cell_type": "code",
   "execution_count": 154,
   "metadata": {},
   "outputs": [
    {
     "name": "stdout",
     "output_type": "stream",
     "text": [
      "[2400.0, 105.0, 80.0, 26.666666666666668, 350.0, 25.0, 1000.0, 400.0]"
     ]
    }
   ],
   "source": [
    "function get_dosagens_diarias(idade, peso, genero)\n",
    "    \"\"\"Consideraremos a idade em anos, peso em Kg e genero \"M\" ou \"F\" \"\"\"\n",
    "    vetor_ideal = zeros(8)\n",
    "    \n",
    "    # Defendendo Entradas\n",
    "    if (genero != \"M\" && genero != \"F\") || (idade < 0) || (peso < 0)\n",
    "        return false, vetor_ideal\n",
    "    end\n",
    "\n",
    "    # Calorias\n",
    "    if genero == \"M\"\n",
    "        vetor_ideal[1] = 2400\n",
    "    else\n",
    "        vetor_ideal[1] = 2000\n",
    "    end\n",
    "\n",
    "    # Proteinas\n",
    "    vetor_ideal[2] = peso * 1.5\n",
    "\n",
    "    # Lipídeos\n",
    "    vetor_ideal[3] = (vetor_ideal[1] * 0.3) / 9\n",
    "\n",
    "    # Colesterol\n",
    "    vetor_ideal[4] = (vetor_ideal[1] * 0.1) / 9\n",
    "\n",
    "    # Carboidratos\n",
    "    vetor_ideal[5] = peso * 5\n",
    "\n",
    "    # Fibra Alimentar\n",
    "    if (idade < 2)\n",
    "        vetor_ideal[6] = 0\n",
    "    \n",
    "    elseif (idade < 5)\n",
    "        vetor_ideal[6] = 15\n",
    "        \n",
    "    elseif (idade < 10)\n",
    "        vetor_ideal[6] = 21\n",
    "        \n",
    "    else\n",
    "        vetor_ideal[6] = 25\n",
    "    end\n",
    "\n",
    "    # Calcio\n",
    "    if (idade < 1)\n",
    "        vetor_ideal[7] = 260\n",
    "    \n",
    "    elseif (idade < 3)\n",
    "        vetor_ideal[7] = 300\n",
    "\n",
    "    elseif (idade < 8)\n",
    "        vetor_ideal[7] = 1000\n",
    "\n",
    "    elseif (idade < 18)\n",
    "        vetor_ideal[7] = 1300\n",
    "\n",
    "    elseif (idade < 70)\n",
    "        vetor_ideal[7] = 1000\n",
    "\n",
    "    else\n",
    "        vetor_ideal[7] = 1200\n",
    "    end\n",
    "    \n",
    "    # Magnésio\n",
    "    if (idade < 1)\n",
    "        vetor_ideal[8] = 30\n",
    "\n",
    "    elseif (idade < 3)\n",
    "        vetor_ideal[8] = 75\n",
    "\n",
    "    elseif (idade < 8)\n",
    "        vetor_ideal[8] = 80\n",
    "\n",
    "    elseif (idade < 13)\n",
    "        vetor_ideal[8] = 240\n",
    "\n",
    "    elseif (idade < 18)\n",
    "        if (genero == \"M\")\n",
    "            vetor_ideal[8] = 410\n",
    "        else\n",
    "            vetor_ideal[8] = 360\n",
    "        end\n",
    "        \n",
    "    elseif (idade < 30)\n",
    "        if (genero == \"M\")\n",
    "            vetor_ideal[8] = 400\n",
    "        else\n",
    "            vetor_ideal[8] = 310\n",
    "        end\n",
    "\n",
    "    else\n",
    "        if (genero == \"M\")\n",
    "            vetor_ideal[8] = 420\n",
    "        else\n",
    "            vetor_ideal[8] = 320\n",
    "        end\n",
    "    end\n",
    "\n",
    "    return true, vetor_ideal\n",
    "end\n",
    "\n",
    "validade, dosagem_diaria = get_dosagens_diarias(IDADE, PESO, GENERO)\n",
    "if !validade\n",
    "    print(\"Parametro invalido\")\n",
    "end\n",
    "\n",
    "print(dosagem_diaria)"
   ]
  },
  {
   "cell_type": "markdown",
   "metadata": {},
   "source": [
    "## Dados Utilizados\n",
    "\n",
    "### Base de alimentos\n",
    "Os dados refletem as quantidades de nutriente para mais de 300 alimentos.\n",
    "\n",
    "Fonte de dados: https://www.kaggle.com/datasets/ispangler/composio-nutricional-de-alimentos-taco?select=taco-db-nutrientes.csv"
   ]
  },
  {
   "cell_type": "code",
   "execution_count": 155,
   "metadata": {},
   "outputs": [
    {
     "data": {
      "text/html": [
       "<div><div style = \"float: left;\"><span>359×9 DataFrame</span></div><div style = \"float: right;\"><span style = \"font-style: italic;\">334 rows omitted</span></div><div style = \"clear: both;\"></div></div><div class = \"data-frame\" style = \"overflow-x: scroll;\"><table class = \"data-frame\" style = \"margin-bottom: 6px;\"><thead><tr class = \"header\"><th class = \"rowNumber\" style = \"font-weight: bold; text-align: right;\">Row</th><th style = \"text-align: left;\">Nome</th><th style = \"text-align: left;\">Energia (kcal)</th><th style = \"text-align: left;\">Proteína (g)</th><th style = \"text-align: left;\">Lipídeos (g)</th><th style = \"text-align: left;\">Colesterol (mg)</th><th style = \"text-align: left;\">Carboidrato (g)</th><th style = \"text-align: left;\">Fibra Alimentar (g)</th><th style = \"text-align: left;\">Cálcio (mg)</th><th style = \"text-align: left;\">Magnésio (mg)</th></tr><tr class = \"subheader headerLastRow\"><th class = \"rowNumber\" style = \"font-weight: bold; text-align: right;\"></th><th title = \"String\" style = \"text-align: left;\">String</th><th title = \"Float64\" style = \"text-align: left;\">Float64</th><th title = \"Float64\" style = \"text-align: left;\">Float64</th><th title = \"Float64\" style = \"text-align: left;\">Float64</th><th title = \"Int64\" style = \"text-align: left;\">Int64</th><th title = \"Float64\" style = \"text-align: left;\">Float64</th><th title = \"Float64\" style = \"text-align: left;\">Float64</th><th title = \"Float64\" style = \"text-align: left;\">Float64</th><th title = \"Int64\" style = \"text-align: left;\">Int64</th></tr></thead><tbody><tr><td class = \"rowNumber\" style = \"font-weight: bold; text-align: right;\">1</td><td style = \"text-align: left;\">Arroz integral cozido</td><td style = \"text-align: right;\">124.0</td><td style = \"text-align: right;\">2.6</td><td style = \"text-align: right;\">1.0</td><td style = \"text-align: right;\">0</td><td style = \"text-align: right;\">25.8</td><td style = \"text-align: right;\">2.7</td><td style = \"text-align: right;\">5.0</td><td style = \"text-align: right;\">59</td></tr><tr><td class = \"rowNumber\" style = \"font-weight: bold; text-align: right;\">2</td><td style = \"text-align: left;\">Arroz cozido</td><td style = \"text-align: right;\">128.0</td><td style = \"text-align: right;\">2.5</td><td style = \"text-align: right;\">0.2</td><td style = \"text-align: right;\">0</td><td style = \"text-align: right;\">28.1</td><td style = \"text-align: right;\">1.6</td><td style = \"text-align: right;\">4.0</td><td style = \"text-align: right;\">2</td></tr><tr><td class = \"rowNumber\" style = \"font-weight: bold; text-align: right;\">3</td><td style = \"text-align: left;\">Biscoito doce maisena</td><td style = \"text-align: right;\">443.0</td><td style = \"text-align: right;\">8.1</td><td style = \"text-align: right;\">12.0</td><td style = \"text-align: right;\">0</td><td style = \"text-align: right;\">75.2</td><td style = \"text-align: right;\">2.1</td><td style = \"text-align: right;\">54.0</td><td style = \"text-align: right;\">37</td></tr><tr><td class = \"rowNumber\" style = \"font-weight: bold; text-align: right;\">4</td><td style = \"text-align: left;\">Biscoito doce recheado com chocolate</td><td style = \"text-align: right;\">472.0</td><td style = \"text-align: right;\">6.4</td><td style = \"text-align: right;\">19.6</td><td style = \"text-align: right;\">0</td><td style = \"text-align: right;\">70.5</td><td style = \"text-align: right;\">3.0</td><td style = \"text-align: right;\">27.0</td><td style = \"text-align: right;\">48</td></tr><tr><td class = \"rowNumber\" style = \"font-weight: bold; text-align: right;\">5</td><td style = \"text-align: left;\">Biscoito doce recheado com morango</td><td style = \"text-align: right;\">471.0</td><td style = \"text-align: right;\">5.7</td><td style = \"text-align: right;\">19.6</td><td style = \"text-align: right;\">0</td><td style = \"text-align: right;\">71.0</td><td style = \"text-align: right;\">1.5</td><td style = \"text-align: right;\">36.0</td><td style = \"text-align: right;\">27</td></tr><tr><td class = \"rowNumber\" style = \"font-weight: bold; text-align: right;\">6</td><td style = \"text-align: left;\">Biscoito doce wafer recheado de chocolate</td><td style = \"text-align: right;\">502.0</td><td style = \"text-align: right;\">5.6</td><td style = \"text-align: right;\">24.7</td><td style = \"text-align: right;\">0</td><td style = \"text-align: right;\">67.5</td><td style = \"text-align: right;\">1.8</td><td style = \"text-align: right;\">23.0</td><td style = \"text-align: right;\">48</td></tr><tr><td class = \"rowNumber\" style = \"font-weight: bold; text-align: right;\">7</td><td style = \"text-align: left;\">Biscoito doce wafer recheado de morango</td><td style = \"text-align: right;\">513.0</td><td style = \"text-align: right;\">4.5</td><td style = \"text-align: right;\">26.4</td><td style = \"text-align: right;\">1</td><td style = \"text-align: right;\">67.4</td><td style = \"text-align: right;\">0.8</td><td style = \"text-align: right;\">14.0</td><td style = \"text-align: right;\">19</td></tr><tr><td class = \"rowNumber\" style = \"font-weight: bold; text-align: right;\">8</td><td style = \"text-align: left;\">Biscoito salgado cream cracker</td><td style = \"text-align: right;\">432.0</td><td style = \"text-align: right;\">10.1</td><td style = \"text-align: right;\">14.4</td><td style = \"text-align: right;\">0</td><td style = \"text-align: right;\">68.7</td><td style = \"text-align: right;\">2.5</td><td style = \"text-align: right;\">20.0</td><td style = \"text-align: right;\">40</td></tr><tr><td class = \"rowNumber\" style = \"font-weight: bold; text-align: right;\">9</td><td style = \"text-align: left;\">Bolo mistura para</td><td style = \"text-align: right;\">419.0</td><td style = \"text-align: right;\">6.2</td><td style = \"text-align: right;\">6.1</td><td style = \"text-align: right;\">0</td><td style = \"text-align: right;\">84.7</td><td style = \"text-align: right;\">1.7</td><td style = \"text-align: right;\">59.0</td><td style = \"text-align: right;\">28</td></tr><tr><td class = \"rowNumber\" style = \"font-weight: bold; text-align: right;\">10</td><td style = \"text-align: left;\">Bolo pronto aipim</td><td style = \"text-align: right;\">324.0</td><td style = \"text-align: right;\">4.4</td><td style = \"text-align: right;\">12.7</td><td style = \"text-align: right;\">73</td><td style = \"text-align: right;\">47.9</td><td style = \"text-align: right;\">0.7</td><td style = \"text-align: right;\">85.0</td><td style = \"text-align: right;\">10</td></tr><tr><td class = \"rowNumber\" style = \"font-weight: bold; text-align: right;\">11</td><td style = \"text-align: left;\">Bolo pronto chocolate</td><td style = \"text-align: right;\">410.0</td><td style = \"text-align: right;\">6.2</td><td style = \"text-align: right;\">18.5</td><td style = \"text-align: right;\">77</td><td style = \"text-align: right;\">54.7</td><td style = \"text-align: right;\">1.4</td><td style = \"text-align: right;\">75.0</td><td style = \"text-align: right;\">28</td></tr><tr><td class = \"rowNumber\" style = \"font-weight: bold; text-align: right;\">12</td><td style = \"text-align: left;\">Bolo pronto coco</td><td style = \"text-align: right;\">333.0</td><td style = \"text-align: right;\">5.7</td><td style = \"text-align: right;\">11.3</td><td style = \"text-align: right;\">63</td><td style = \"text-align: right;\">52.3</td><td style = \"text-align: right;\">1.1</td><td style = \"text-align: right;\">57.0</td><td style = \"text-align: right;\">16</td></tr><tr><td class = \"rowNumber\" style = \"font-weight: bold; text-align: right;\">13</td><td style = \"text-align: left;\">Bolo pronto milho</td><td style = \"text-align: right;\">311.0</td><td style = \"text-align: right;\">4.8</td><td style = \"text-align: right;\">12.4</td><td style = \"text-align: right;\">82</td><td style = \"text-align: right;\">45.1</td><td style = \"text-align: right;\">0.7</td><td style = \"text-align: right;\">83.0</td><td style = \"text-align: right;\">10</td></tr><tr><td style = \"text-align: right;\">&vellip;</td><td style = \"text-align: right;\">&vellip;</td><td style = \"text-align: right;\">&vellip;</td><td style = \"text-align: right;\">&vellip;</td><td style = \"text-align: right;\">&vellip;</td><td style = \"text-align: right;\">&vellip;</td><td style = \"text-align: right;\">&vellip;</td><td style = \"text-align: right;\">&vellip;</td><td style = \"text-align: right;\">&vellip;</td><td style = \"text-align: right;\">&vellip;</td></tr><tr><td class = \"rowNumber\" style = \"font-weight: bold; text-align: right;\">348</td><td style = \"text-align: left;\">Soja extrato solúvel pó</td><td style = \"text-align: right;\">459.0</td><td style = \"text-align: right;\">35.7</td><td style = \"text-align: right;\">26.2</td><td style = \"text-align: right;\">0</td><td style = \"text-align: right;\">28.5</td><td style = \"text-align: right;\">7.3</td><td style = \"text-align: right;\">359.0</td><td style = \"text-align: right;\">216</td></tr><tr><td class = \"rowNumber\" style = \"font-weight: bold; text-align: right;\">349</td><td style = \"text-align: left;\">Soja queijo (tofu)</td><td style = \"text-align: right;\">64.0</td><td style = \"text-align: right;\">6.6</td><td style = \"text-align: right;\">4.0</td><td style = \"text-align: right;\">0</td><td style = \"text-align: right;\">2.1</td><td style = \"text-align: right;\">0.8</td><td style = \"text-align: right;\">81.0</td><td style = \"text-align: right;\">38</td></tr><tr><td class = \"rowNumber\" style = \"font-weight: bold; text-align: right;\">350</td><td style = \"text-align: left;\">Tremoço em conserva</td><td style = \"text-align: right;\">121.0</td><td style = \"text-align: right;\">11.1</td><td style = \"text-align: right;\">3.8</td><td style = \"text-align: right;\">0</td><td style = \"text-align: right;\">12.4</td><td style = \"text-align: right;\">14.4</td><td style = \"text-align: right;\">16.0</td><td style = \"text-align: right;\">4</td></tr><tr><td class = \"rowNumber\" style = \"font-weight: bold; text-align: right;\">351</td><td style = \"text-align: left;\">Amêndoa torrada salgada</td><td style = \"text-align: right;\">581.0</td><td style = \"text-align: right;\">18.6</td><td style = \"text-align: right;\">47.3</td><td style = \"text-align: right;\">0</td><td style = \"text-align: right;\">29.5</td><td style = \"text-align: right;\">11.6</td><td style = \"text-align: right;\">237.0</td><td style = \"text-align: right;\">222</td></tr><tr><td class = \"rowNumber\" style = \"font-weight: bold; text-align: right;\">352</td><td style = \"text-align: left;\">Soja queijo (tofu)</td><td style = \"text-align: right;\">64.0</td><td style = \"text-align: right;\">6.6</td><td style = \"text-align: right;\">4.0</td><td style = \"text-align: right;\">0</td><td style = \"text-align: right;\">2.1</td><td style = \"text-align: right;\">0.8</td><td style = \"text-align: right;\">81.0</td><td style = \"text-align: right;\">38</td></tr><tr><td class = \"rowNumber\" style = \"font-weight: bold; text-align: right;\">353</td><td style = \"text-align: left;\">Tremoço em conserva</td><td style = \"text-align: right;\">121.0</td><td style = \"text-align: right;\">11.1</td><td style = \"text-align: right;\">3.8</td><td style = \"text-align: right;\">0</td><td style = \"text-align: right;\">12.4</td><td style = \"text-align: right;\">14.4</td><td style = \"text-align: right;\">16.0</td><td style = \"text-align: right;\">4</td></tr><tr><td class = \"rowNumber\" style = \"font-weight: bold; text-align: right;\">354</td><td style = \"text-align: left;\">Amêndoa torrada salgada</td><td style = \"text-align: right;\">581.0</td><td style = \"text-align: right;\">18.6</td><td style = \"text-align: right;\">47.3</td><td style = \"text-align: right;\">0</td><td style = \"text-align: right;\">29.5</td><td style = \"text-align: right;\">11.6</td><td style = \"text-align: right;\">237.0</td><td style = \"text-align: right;\">222</td></tr><tr><td class = \"rowNumber\" style = \"font-weight: bold; text-align: right;\">355</td><td style = \"text-align: left;\">Castanha-de-caju torrada salgada</td><td style = \"text-align: right;\">570.0</td><td style = \"text-align: right;\">18.5</td><td style = \"text-align: right;\">46.3</td><td style = \"text-align: right;\">0</td><td style = \"text-align: right;\">29.1</td><td style = \"text-align: right;\">3.7</td><td style = \"text-align: right;\">33.0</td><td style = \"text-align: right;\">237</td></tr><tr><td class = \"rowNumber\" style = \"font-weight: bold; text-align: right;\">356</td><td style = \"text-align: left;\">Gergelim semente</td><td style = \"text-align: right;\">584.0</td><td style = \"text-align: right;\">21.2</td><td style = \"text-align: right;\">50.4</td><td style = \"text-align: right;\">0</td><td style = \"text-align: right;\">21.6</td><td style = \"text-align: right;\">11.9</td><td style = \"text-align: right;\">825.0</td><td style = \"text-align: right;\">361</td></tr><tr><td class = \"rowNumber\" style = \"font-weight: bold; text-align: right;\">357</td><td style = \"text-align: left;\">Linhaça semente</td><td style = \"text-align: right;\">495.0</td><td style = \"text-align: right;\">14.1</td><td style = \"text-align: right;\">32.3</td><td style = \"text-align: right;\">0</td><td style = \"text-align: right;\">43.3</td><td style = \"text-align: right;\">33.5</td><td style = \"text-align: right;\">211.0</td><td style = \"text-align: right;\">347</td></tr><tr><td class = \"rowNumber\" style = \"font-weight: bold; text-align: right;\">358</td><td style = \"text-align: left;\">Pinhão cozido</td><td style = \"text-align: right;\">174.0</td><td style = \"text-align: right;\">3.0</td><td style = \"text-align: right;\">0.7</td><td style = \"text-align: right;\">0</td><td style = \"text-align: right;\">43.9</td><td style = \"text-align: right;\">15.6</td><td style = \"text-align: right;\">16.0</td><td style = \"text-align: right;\">53</td></tr><tr><td class = \"rowNumber\" style = \"font-weight: bold; text-align: right;\">359</td><td style = \"text-align: left;\">Pupunha cozida</td><td style = \"text-align: right;\">219.0</td><td style = \"text-align: right;\">2.5</td><td style = \"text-align: right;\">12.8</td><td style = \"text-align: right;\">0</td><td style = \"text-align: right;\">29.6</td><td style = \"text-align: right;\">4.3</td><td style = \"text-align: right;\">28.0</td><td style = \"text-align: right;\">25</td></tr></tbody></table></div>"
      ],
      "text/latex": [
       "\\begin{tabular}{r|cccc}\n",
       "\t& Nome & Energia (kcal) & Proteína (g) & \\\\\n",
       "\t\\hline\n",
       "\t& String & Float64 & Float64 & \\\\\n",
       "\t\\hline\n",
       "\t1 & Arroz integral cozido & 124.0 & 2.6 & $\\dots$ \\\\\n",
       "\t2 & Arroz cozido & 128.0 & 2.5 & $\\dots$ \\\\\n",
       "\t3 & Biscoito doce maisena & 443.0 & 8.1 & $\\dots$ \\\\\n",
       "\t4 & Biscoito doce recheado com chocolate & 472.0 & 6.4 & $\\dots$ \\\\\n",
       "\t5 & Biscoito doce recheado com morango & 471.0 & 5.7 & $\\dots$ \\\\\n",
       "\t6 & Biscoito doce wafer recheado de chocolate & 502.0 & 5.6 & $\\dots$ \\\\\n",
       "\t7 & Biscoito doce wafer recheado de morango & 513.0 & 4.5 & $\\dots$ \\\\\n",
       "\t8 & Biscoito salgado cream cracker & 432.0 & 10.1 & $\\dots$ \\\\\n",
       "\t9 & Bolo mistura para & 419.0 & 6.2 & $\\dots$ \\\\\n",
       "\t10 & Bolo pronto aipim & 324.0 & 4.4 & $\\dots$ \\\\\n",
       "\t11 & Bolo pronto chocolate & 410.0 & 6.2 & $\\dots$ \\\\\n",
       "\t12 & Bolo pronto coco & 333.0 & 5.7 & $\\dots$ \\\\\n",
       "\t13 & Bolo pronto milho & 311.0 & 4.8 & $\\dots$ \\\\\n",
       "\t14 & Canjica com leite integral & 112.0 & 2.4 & $\\dots$ \\\\\n",
       "\t15 & Cereais milho flocos com sal & 370.0 & 7.3 & $\\dots$ \\\\\n",
       "\t16 & Cereais milho flocos sem sal & 363.0 & 6.9 & $\\dots$ \\\\\n",
       "\t17 & Cereais mingau milho infantil & 394.0 & 6.4 & $\\dots$ \\\\\n",
       "\t18 & Cereais mistura para vitamina trigo cevada e aveia & 381.0 & 8.9 & $\\dots$ \\\\\n",
       "\t19 & Cereal matinal milho & 365.0 & 7.2 & $\\dots$ \\\\\n",
       "\t20 & Cereal matinal milho açúcar & 377.0 & 4.7 & $\\dots$ \\\\\n",
       "\t21 & Creme de arroz pó & 386.0 & 7.0 & $\\dots$ \\\\\n",
       "\t22 & Creme de milho pó & 333.0 & 4.8 & $\\dots$ \\\\\n",
       "\t23 & Curau milho verde & 78.0 & 2.4 & $\\dots$ \\\\\n",
       "\t24 & Curau milho verde mistura para & 402.0 & 2.2 & $\\dots$ \\\\\n",
       "\t25 & Lasanha massa fresca cozida & 164.0 & 5.8 & $\\dots$ \\\\\n",
       "\t26 & Macarrão instantâneo & 436.0 & 8.8 & $\\dots$ \\\\\n",
       "\t27 & Milho verde enlatado drenado & 98.0 & 3.2 & $\\dots$ \\\\\n",
       "\t28 & Mingau tradicional pó & 373.0 & 0.6 & $\\dots$ \\\\\n",
       "\t29 & Pamonha barra para cozimento pré-cozida & 171.0 & 2.6 & $\\dots$ \\\\\n",
       "\t30 & Pão aveia forma & 343.0 & 12.4 & $\\dots$ \\\\\n",
       "\t$\\dots$ & $\\dots$ & $\\dots$ & $\\dots$ &  \\\\\n",
       "\\end{tabular}\n"
      ],
      "text/plain": [
       "\u001b[1m359×9 DataFrame\u001b[0m\n",
       "\u001b[1m Row \u001b[0m│\u001b[1m Nome                              \u001b[0m\u001b[1m Energia (kcal) \u001b[0m\u001b[1m Proteína (g) \u001b[0m\u001b[1m Lipíde\u001b[0m ⋯\n",
       "     │\u001b[90m String                            \u001b[0m\u001b[90m Float64        \u001b[0m\u001b[90m Float64      \u001b[0m\u001b[90m Float6\u001b[0m ⋯\n",
       "─────┼──────────────────────────────────────────────────────────────────────────\n",
       "   1 │ Arroz integral cozido                       124.0           2.6         ⋯\n",
       "   2 │ Arroz cozido                                128.0           2.5\n",
       "   3 │ Biscoito doce maisena                       443.0           8.1\n",
       "   4 │ Biscoito doce recheado com choco…           472.0           6.4\n",
       "   5 │ Biscoito doce recheado com moran…           471.0           5.7         ⋯\n",
       "   6 │ Biscoito doce wafer recheado de …           502.0           5.6\n",
       "   7 │ Biscoito doce wafer recheado de …           513.0           4.5\n",
       "   8 │ Biscoito salgado cream cracker              432.0          10.1\n",
       "   9 │ Bolo mistura para                           419.0           6.2         ⋯\n",
       "  10 │ Bolo pronto aipim                           324.0           4.4\n",
       "  11 │ Bolo pronto chocolate                       410.0           6.2\n",
       "  ⋮  │                 ⋮                        ⋮              ⋮             ⋮ ⋱\n",
       " 350 │ Tremoço em conserva                         121.0          11.1\n",
       " 351 │ Amêndoa torrada salgada                     581.0          18.6         ⋯\n",
       " 352 │ Soja queijo (tofu)                           64.0           6.6\n",
       " 353 │ Tremoço em conserva                         121.0          11.1\n",
       " 354 │ Amêndoa torrada salgada                     581.0          18.6\n",
       " 355 │ Castanha-de-caju torrada salgada            570.0          18.5         ⋯\n",
       " 356 │ Gergelim semente                            584.0          21.2\n",
       " 357 │ Linhaça semente                             495.0          14.1\n",
       " 358 │ Pinhão cozido                               174.0           3.0\n",
       " 359 │ Pupunha cozida                              219.0           2.5         ⋯\n",
       "\u001b[36m                                                  6 columns and 338 rows omitted\u001b[0m"
      ]
     },
     "metadata": {},
     "output_type": "display_data"
    }
   ],
   "source": [
    "df = CSV.read(\"arquivo_sem_cru.csv\", DataFrame)\n",
    "display(df)"
   ]
  },
  {
   "cell_type": "markdown",
   "metadata": {},
   "source": [
    "### Tratando dados\n",
    "Convertemos as colunas para o tipo correto de dados"
   ]
  },
  {
   "cell_type": "code",
   "execution_count": 156,
   "metadata": {},
   "outputs": [
    {
     "name": "stdout",
     "output_type": "stream",
     "text": [
      "Proteína (g), Lipídeos (g), Colesterol (mg), Carboidrato (g), Fibra Alimentar (g), Cálcio (mg), Magnésio (mg), "
     ]
    },
    {
     "data": {
      "text/html": [
       "<div><div style = \"float: left;\"><span>5×9 DataFrame</span></div><div style = \"clear: both;\"></div></div><div class = \"data-frame\" style = \"overflow-x: scroll;\"><table class = \"data-frame\" style = \"margin-bottom: 6px;\"><thead><tr class = \"header\"><th class = \"rowNumber\" style = \"font-weight: bold; text-align: right;\">Row</th><th style = \"text-align: left;\">Nome</th><th style = \"text-align: left;\">Energia (kcal)</th><th style = \"text-align: left;\">Proteína (g)</th><th style = \"text-align: left;\">Lipídeos (g)</th><th style = \"text-align: left;\">Colesterol (mg)</th><th style = \"text-align: left;\">Carboidrato (g)</th><th style = \"text-align: left;\">Fibra Alimentar (g)</th><th style = \"text-align: left;\">Cálcio (mg)</th><th style = \"text-align: left;\">Magnésio (mg)</th></tr><tr class = \"subheader headerLastRow\"><th class = \"rowNumber\" style = \"font-weight: bold; text-align: right;\"></th><th title = \"String\" style = \"text-align: left;\">String</th><th title = \"Float64\" style = \"text-align: left;\">Float64</th><th title = \"Float64\" style = \"text-align: left;\">Float64</th><th title = \"Float64\" style = \"text-align: left;\">Float64</th><th title = \"Int64\" style = \"text-align: left;\">Int64</th><th title = \"Float64\" style = \"text-align: left;\">Float64</th><th title = \"Float64\" style = \"text-align: left;\">Float64</th><th title = \"Float64\" style = \"text-align: left;\">Float64</th><th title = \"Int64\" style = \"text-align: left;\">Int64</th></tr></thead><tbody><tr><td class = \"rowNumber\" style = \"font-weight: bold; text-align: right;\">1</td><td style = \"text-align: left;\">Arroz integral cozido</td><td style = \"text-align: right;\">124.0</td><td style = \"text-align: right;\">2.6</td><td style = \"text-align: right;\">1.0</td><td style = \"text-align: right;\">0</td><td style = \"text-align: right;\">25.8</td><td style = \"text-align: right;\">2.7</td><td style = \"text-align: right;\">5.0</td><td style = \"text-align: right;\">59</td></tr><tr><td class = \"rowNumber\" style = \"font-weight: bold; text-align: right;\">2</td><td style = \"text-align: left;\">Arroz cozido</td><td style = \"text-align: right;\">128.0</td><td style = \"text-align: right;\">2.5</td><td style = \"text-align: right;\">0.2</td><td style = \"text-align: right;\">0</td><td style = \"text-align: right;\">28.1</td><td style = \"text-align: right;\">1.6</td><td style = \"text-align: right;\">4.0</td><td style = \"text-align: right;\">2</td></tr><tr><td class = \"rowNumber\" style = \"font-weight: bold; text-align: right;\">3</td><td style = \"text-align: left;\">Biscoito doce maisena</td><td style = \"text-align: right;\">443.0</td><td style = \"text-align: right;\">8.1</td><td style = \"text-align: right;\">12.0</td><td style = \"text-align: right;\">0</td><td style = \"text-align: right;\">75.2</td><td style = \"text-align: right;\">2.1</td><td style = \"text-align: right;\">54.0</td><td style = \"text-align: right;\">37</td></tr><tr><td class = \"rowNumber\" style = \"font-weight: bold; text-align: right;\">4</td><td style = \"text-align: left;\">Biscoito doce recheado com chocolate</td><td style = \"text-align: right;\">472.0</td><td style = \"text-align: right;\">6.4</td><td style = \"text-align: right;\">19.6</td><td style = \"text-align: right;\">0</td><td style = \"text-align: right;\">70.5</td><td style = \"text-align: right;\">3.0</td><td style = \"text-align: right;\">27.0</td><td style = \"text-align: right;\">48</td></tr><tr><td class = \"rowNumber\" style = \"font-weight: bold; text-align: right;\">5</td><td style = \"text-align: left;\">Biscoito doce recheado com morango</td><td style = \"text-align: right;\">471.0</td><td style = \"text-align: right;\">5.7</td><td style = \"text-align: right;\">19.6</td><td style = \"text-align: right;\">0</td><td style = \"text-align: right;\">71.0</td><td style = \"text-align: right;\">1.5</td><td style = \"text-align: right;\">36.0</td><td style = \"text-align: right;\">27</td></tr></tbody></table></div>"
      ],
      "text/latex": [
       "\\begin{tabular}{r|ccccc}\n",
       "\t& Nome & Energia (kcal) & Proteína (g) & Lipídeos (g) & \\\\\n",
       "\t\\hline\n",
       "\t& String & Float64 & Float64 & Float64 & \\\\\n",
       "\t\\hline\n",
       "\t1 & Arroz integral cozido & 124.0 & 2.6 & 1.0 & $\\dots$ \\\\\n",
       "\t2 & Arroz cozido & 128.0 & 2.5 & 0.2 & $\\dots$ \\\\\n",
       "\t3 & Biscoito doce maisena & 443.0 & 8.1 & 12.0 & $\\dots$ \\\\\n",
       "\t4 & Biscoito doce recheado com chocolate & 472.0 & 6.4 & 19.6 & $\\dots$ \\\\\n",
       "\t5 & Biscoito doce recheado com morango & 471.0 & 5.7 & 19.6 & $\\dots$ \\\\\n",
       "\\end{tabular}\n"
      ],
      "text/plain": [
       "\u001b[1m5×9 DataFrame\u001b[0m\n",
       "\u001b[1m Row \u001b[0m│\u001b[1m Nome                              \u001b[0m\u001b[1m Energia (kcal) \u001b[0m\u001b[1m Proteína (g) \u001b[0m\u001b[1m Lipíde\u001b[0m ⋯\n",
       "     │\u001b[90m String                            \u001b[0m\u001b[90m Float64        \u001b[0m\u001b[90m Float64      \u001b[0m\u001b[90m Float6\u001b[0m ⋯\n",
       "─────┼──────────────────────────────────────────────────────────────────────────\n",
       "   1 │ Arroz integral cozido                       124.0           2.6         ⋯\n",
       "   2 │ Arroz cozido                                128.0           2.5\n",
       "   3 │ Biscoito doce maisena                       443.0           8.1\n",
       "   4 │ Biscoito doce recheado com choco…           472.0           6.4\n",
       "   5 │ Biscoito doce recheado com moran…           471.0           5.7         ⋯\n",
       "\u001b[36m                                                               6 columns omitted\u001b[0m"
      ]
     },
     "metadata": {},
     "output_type": "display_data"
    }
   ],
   "source": [
    "for nome in names(df)[3:ncol(df)]\n",
    "    print(nome, \", \")\n",
    "    convert(Vector{Float64}, df[!, nome])\n",
    "end\n",
    "\n",
    "display(DataFrames.first(df, 5))"
   ]
  },
  {
   "cell_type": "markdown",
   "metadata": {},
   "source": [
    "### Escalonando Dados\n",
    "Escalonaremos os dados em função da quantidade de nutrientes demandados por cada indivíduo, dividindo a quantidade presente na tabela pelo valor alvo para atingirmos um percentual do nutriente alvo e não mais um valor absoluto"
   ]
  },
  {
   "cell_type": "code",
   "execution_count": null,
   "metadata": {},
   "outputs": [
    {
     "name": "stdout",
     "output_type": "stream",
     "text": [
      "Dividindo por2400.0\n",
      "Dividindo por105.0\n",
      "Dividindo por80.0\n",
      "Dividindo por26.666666666666668\n",
      "Dividindo por350.0\n",
      "Dividindo por25.0\n",
      "Dividindo por1000.0\n",
      "Dividindo por400.0\n"
     ]
    },
    {
     "data": {
      "text/html": [
       "<div><div style = \"float: left;\"><span>5×9 DataFrame</span></div><div style = \"clear: both;\"></div></div><div class = \"data-frame\" style = \"overflow-x: scroll;\"><table class = \"data-frame\" style = \"margin-bottom: 6px;\"><thead><tr class = \"header\"><th class = \"rowNumber\" style = \"font-weight: bold; text-align: right;\">Row</th><th style = \"text-align: left;\">Nome</th><th style = \"text-align: left;\">Energia (kcal)</th><th style = \"text-align: left;\">Proteína (g)</th><th style = \"text-align: left;\">Lipídeos (g)</th><th style = \"text-align: left;\">Colesterol (mg)</th><th style = \"text-align: left;\">Carboidrato (g)</th><th style = \"text-align: left;\">Fibra Alimentar (g)</th><th style = \"text-align: left;\">Cálcio (mg)</th><th style = \"text-align: left;\">Magnésio (mg)</th></tr><tr class = \"subheader headerLastRow\"><th class = \"rowNumber\" style = \"font-weight: bold; text-align: right;\"></th><th title = \"String\" style = \"text-align: left;\">String</th><th title = \"Float64\" style = \"text-align: left;\">Float64</th><th title = \"Float64\" style = \"text-align: left;\">Float64</th><th title = \"Float64\" style = \"text-align: left;\">Float64</th><th title = \"Float64\" style = \"text-align: left;\">Float64</th><th title = \"Float64\" style = \"text-align: left;\">Float64</th><th title = \"Float64\" style = \"text-align: left;\">Float64</th><th title = \"Float64\" style = \"text-align: left;\">Float64</th><th title = \"Float64\" style = \"text-align: left;\">Float64</th></tr></thead><tbody><tr><td class = \"rowNumber\" style = \"font-weight: bold; text-align: right;\">1</td><td style = \"text-align: left;\">Arroz integral cozido</td><td style = \"text-align: right;\">5.17</td><td style = \"text-align: right;\">2.48</td><td style = \"text-align: right;\">1.25</td><td style = \"text-align: right;\">0.0</td><td style = \"text-align: right;\">7.37</td><td style = \"text-align: right;\">10.8</td><td style = \"text-align: right;\">0.5</td><td style = \"text-align: right;\">14.75</td></tr><tr><td class = \"rowNumber\" style = \"font-weight: bold; text-align: right;\">2</td><td style = \"text-align: left;\">Arroz cozido</td><td style = \"text-align: right;\">5.33</td><td style = \"text-align: right;\">2.38</td><td style = \"text-align: right;\">0.25</td><td style = \"text-align: right;\">0.0</td><td style = \"text-align: right;\">8.03</td><td style = \"text-align: right;\">6.4</td><td style = \"text-align: right;\">0.4</td><td style = \"text-align: right;\">0.5</td></tr><tr><td class = \"rowNumber\" style = \"font-weight: bold; text-align: right;\">3</td><td style = \"text-align: left;\">Biscoito doce maisena</td><td style = \"text-align: right;\">18.46</td><td style = \"text-align: right;\">7.71</td><td style = \"text-align: right;\">15.0</td><td style = \"text-align: right;\">0.0</td><td style = \"text-align: right;\">21.49</td><td style = \"text-align: right;\">8.4</td><td style = \"text-align: right;\">5.4</td><td style = \"text-align: right;\">9.25</td></tr><tr><td class = \"rowNumber\" style = \"font-weight: bold; text-align: right;\">4</td><td style = \"text-align: left;\">Biscoito doce recheado com chocolate</td><td style = \"text-align: right;\">19.67</td><td style = \"text-align: right;\">6.1</td><td style = \"text-align: right;\">24.5</td><td style = \"text-align: right;\">0.0</td><td style = \"text-align: right;\">20.14</td><td style = \"text-align: right;\">12.0</td><td style = \"text-align: right;\">2.7</td><td style = \"text-align: right;\">12.0</td></tr><tr><td class = \"rowNumber\" style = \"font-weight: bold; text-align: right;\">5</td><td style = \"text-align: left;\">Biscoito doce recheado com morango</td><td style = \"text-align: right;\">19.62</td><td style = \"text-align: right;\">5.43</td><td style = \"text-align: right;\">24.5</td><td style = \"text-align: right;\">0.0</td><td style = \"text-align: right;\">20.29</td><td style = \"text-align: right;\">6.0</td><td style = \"text-align: right;\">3.6</td><td style = \"text-align: right;\">6.75</td></tr></tbody></table></div>"
      ],
      "text/latex": [
       "\\begin{tabular}{r|ccccc}\n",
       "\t& Nome & Energia (kcal) & Proteína (g) & Lipídeos (g) & \\\\\n",
       "\t\\hline\n",
       "\t& String & Float64 & Float64 & Float64 & \\\\\n",
       "\t\\hline\n",
       "\t1 & Arroz integral cozido & 5.17 & 2.48 & 1.25 & $\\dots$ \\\\\n",
       "\t2 & Arroz cozido & 5.33 & 2.38 & 0.25 & $\\dots$ \\\\\n",
       "\t3 & Biscoito doce maisena & 18.46 & 7.71 & 15.0 & $\\dots$ \\\\\n",
       "\t4 & Biscoito doce recheado com chocolate & 19.67 & 6.1 & 24.5 & $\\dots$ \\\\\n",
       "\t5 & Biscoito doce recheado com morango & 19.62 & 5.43 & 24.5 & $\\dots$ \\\\\n",
       "\\end{tabular}\n"
      ],
      "text/plain": [
       "\u001b[1m5×9 DataFrame\u001b[0m\n",
       "\u001b[1m Row \u001b[0m│\u001b[1m Nome                              \u001b[0m\u001b[1m Energia (kcal) \u001b[0m\u001b[1m Proteína (g) \u001b[0m\u001b[1m Lipíde\u001b[0m ⋯\n",
       "     │\u001b[90m String                            \u001b[0m\u001b[90m Float64        \u001b[0m\u001b[90m Float64      \u001b[0m\u001b[90m Float6\u001b[0m ⋯\n",
       "─────┼──────────────────────────────────────────────────────────────────────────\n",
       "   1 │ Arroz integral cozido                        5.17          2.48         ⋯\n",
       "   2 │ Arroz cozido                                 5.33          2.38\n",
       "   3 │ Biscoito doce maisena                       18.46          7.71\n",
       "   4 │ Biscoito doce recheado com choco…           19.67          6.1\n",
       "   5 │ Biscoito doce recheado com moran…           19.62          5.43         ⋯\n",
       "\u001b[36m                                                               6 columns omitted\u001b[0m"
      ]
     },
     "metadata": {},
     "output_type": "display_data"
    },
    {
     "data": {
      "text/plain": [
       "8-element Vector{Float64}:\n",
       " 100.0\n",
       " 100.0\n",
       " 100.0\n",
       " 100.0\n",
       " 100.0\n",
       " 100.0\n",
       " 100.0\n",
       " 100.0"
      ]
     },
     "metadata": {},
     "output_type": "display_data"
    }
   ],
   "source": [
    "for i in 2: (ncol(df))\n",
    "    df[!, i] .= (df[!, i] / dosagem_diaria[i - 1]) * 100\n",
    "end\n",
    "\n",
    "vetor_alvo = ones(length(dosagem_diaria)) * 100\n",
    "\n",
    "for i in 2: ncol(df)\n",
    "    df[!, i] .= round.(df[!, i], digits=2)\n",
    "end\n",
    "\n",
    "display(first(df, 5))\n",
    "display(vetor_alvo)"
   ]
  },
  {
   "cell_type": "markdown",
   "metadata": {},
   "source": [
    "## Criando Matriz Base\n",
    "Com base nos alimentos selecionados, temos a seguinte matriz $A$"
   ]
  },
  {
   "cell_type": "code",
   "execution_count": 158,
   "metadata": {},
   "outputs": [
    {
     "data": {
      "text/plain": [
       "8×5 Matrix{Float64}:\n",
       " 5.33  18.46   4.08   36.83  17.46\n",
       " 2.38   7.71   3.05    0.0    5.9\n",
       " 0.25  15.0    3.0   125.0    7.62\n",
       " 0.0    0.0    0.0     0.0    0.0\n",
       " 8.03  21.49   4.89    0.0   24.2\n",
       " 6.4    8.4   18.4     0.0    6.8\n",
       " 0.4    5.4    0.2     0.0    5.9\n",
       " 0.5    9.25   5.0     0.0    7.0"
      ]
     },
     "metadata": {},
     "output_type": "display_data"
    }
   ],
   "source": [
    "if (length(LISTA_ALIMENTOS) == 0)\n",
    "    print(\"Nenhum alimento selecionado! Por favor adicione indices de alimentos na variavel LISTA_ALIMENTOS\")\n",
    "\n",
    "else\n",
    "    A = Vector(df[LISTA_ALIMENTOS[1], 2:ncol(df)])\n",
    "\n",
    "    for idx in LISTA_ALIMENTOS[2: length(LISTA_ALIMENTOS)]\n",
    "        A = hcat(A, Vector(df[idx, 2:ncol(df)]))\n",
    "    end\n",
    "\n",
    "    display(A)\n",
    "end"
   ]
  }
 ],
 "metadata": {
  "kernelspec": {
   "display_name": "Julia 1.10.4",
   "language": "julia",
   "name": "julia-1.10"
  },
  "language_info": {
   "file_extension": ".jl",
   "mimetype": "application/julia",
   "name": "julia",
   "version": "1.10.4"
  }
 },
 "nbformat": 4,
 "nbformat_minor": 2
}
